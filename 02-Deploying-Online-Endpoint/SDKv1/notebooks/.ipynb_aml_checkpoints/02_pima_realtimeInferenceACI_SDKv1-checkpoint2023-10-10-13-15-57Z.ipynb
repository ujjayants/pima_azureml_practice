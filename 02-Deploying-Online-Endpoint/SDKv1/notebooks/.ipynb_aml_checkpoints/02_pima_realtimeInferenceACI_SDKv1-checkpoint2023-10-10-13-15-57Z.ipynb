{
  "cells": [
    {
      "cell_type": "markdown",
      "source": [
        "##### Step 1: Initialize Workspace & Environment"
      ],
      "metadata": {
        "nteract": {
          "transient": {
            "deleting": false
          }
        }
      }
    },
    {
      "cell_type": "code",
      "source": [
        "from azureml.core import Workspace, Model\n",
        "from azureml.core import Environment\n",
        "\n",
        "# Initialize workspace\n",
        "ws = Workspace.from_config()\n",
        "\n",
        "# Get the trained model from registry\n",
        "model_name= 'pima_model_SDKv1_02'\n",
        "model = ws.models[model_name]\n",
        "print(model.name, 'version', model.version)\n",
        "\n",
        "\n",
        "# environment name\n",
        "env_name= 'ENV-SDKv1'\n",
        "\n",
        "# ---- create enviroment using .yaml file\n",
        "# python_packages = Environment.from_conda_specification(env_name, '../dependencies/conda.yaml')\n",
        "# # register the environment\n",
        "# python_packages.register(workspace=ws)\n"
      ],
      "outputs": [
        {
          "output_type": "stream",
          "name": "stdout",
          "text": "pima_model_SDKv1_01 version 5\npima_model_SDKv1_02 version 1\n"
        }
      ],
      "execution_count": 6,
      "metadata": {
        "gather": {
          "logged": 1699622134157
        }
      }
    },
    {
      "cell_type": "markdown",
      "source": [
        "Step 3: Configure & Deploy Model as a Web Service"
      ],
      "metadata": {
        "nteract": {
          "transient": {
            "deleting": false
          }
        }
      }
    },
    {
      "cell_type": "code",
      "source": [
        "from azureml.core import Environment\n",
        "from azureml.core.model import InferenceConfig\n",
        "from azureml.core.webservice import AciWebservice\n",
        "\n",
        "# Configure the scoring environment\n",
        "service_env = Environment.get(workspace=ws, name=env_name)\n",
        "service_env.inferencing_stack_version=\"latest\" # to use latest version\n",
        "\n",
        "inference_config = InferenceConfig(source_directory='../src/',\n",
        "                                   entry_script= 'pima_scoreRealtimeEndpoint_SDKv1.py',\n",
        "                                   environment=service_env\n",
        "                                   )\n",
        "\n",
        "# Configure the web service container\n",
        "deployment_config = AciWebservice.deploy_configuration(cpu_cores=2, memory_gb=4)\n",
        "\n",
        "# Deploy the model as a service\n",
        "print('Deploying model...')\n",
        "service_name = \"pima-indians-sdkv1-service3\"\n",
        "service = Model.deploy(ws, service_name, [model], inference_config, deployment_config, overwrite=True)\n",
        "service.wait_for_deployment(True)\n",
        "print(service.state)\n",
        "print(service.get_logs())"
      ],
      "outputs": [
        {
          "output_type": "stream",
          "name": "stdout",
          "text": "Deploying model...\nTips: You can try get_logs(): https://aka.ms/debugimage#dockerlog or local deployment: https://aka.ms/debugimage#debug-locally to debug if deployment takes longer than 10 minutes.\nRunning\n2023-11-10 13:15:54+00:00 Creating Container Registry if not exists.\n2023-11-10 13:15:55+00:00 Use the existing image.\n2023-11-10 13:15:55+00:00 Generating deployment configuration.\n2023-11-10 13:15:55+00:00 Submitting deployment to compute.\n2023-11-10 13:15:59+00:00 Checking the status of deployment pima-indians-sdkv1-service3."
        },
        {
          "output_type": "stream",
          "name": "stderr",
          "text": "/tmp/ipykernel_48326/4153428433.py:20: FutureWarning: azureml.core.model:\nTo leverage new model deployment capabilities, AzureML recommends using CLI/SDK v2 to deploy models as online endpoint, \nplease refer to respective documentations \nhttps://docs.microsoft.com/azure/machine-learning/how-to-deploy-managed-online-endpoints /\nhttps://docs.microsoft.com/azure/machine-learning/how-to-attach-kubernetes-anywhere \nFor more information on migration, see https://aka.ms/acimoemigration \nTo disable CLI/SDK v1 deprecation warning set AZUREML_LOG_DEPRECATION_WARNING_ENABLED to 'False'\n  service = Model.deploy(ws, service_name, [model], inference_config, deployment_config, overwrite=True)\n"
        }
      ],
      "execution_count": 7,
      "metadata": {
        "jupyter": {
          "source_hidden": false,
          "outputs_hidden": false
        },
        "nteract": {
          "transient": {
            "deleting": false
          }
        },
        "gather": {
          "logged": 1699622154132
        }
      }
    },
    {
      "cell_type": "code",
      "source": [],
      "outputs": [],
      "execution_count": null,
      "metadata": {
        "jupyter": {
          "source_hidden": false,
          "outputs_hidden": false
        },
        "nteract": {
          "transient": {
            "deleting": false
          }
        }
      }
    }
  ],
  "metadata": {
    "kernelspec": {
      "name": "python310-sdkv2",
      "language": "python",
      "display_name": "Python 3.10 - SDK v2"
    },
    "language_info": {
      "name": "python",
      "version": "3.10.11",
      "mimetype": "text/x-python",
      "codemirror_mode": {
        "name": "ipython",
        "version": 3
      },
      "pygments_lexer": "ipython3",
      "nbconvert_exporter": "python",
      "file_extension": ".py"
    },
    "microsoft": {
      "ms_spell_check": {
        "ms_spell_check_language": "en"
      },
      "host": {
        "AzureML": {
          "notebookHasBeenCompleted": true
        }
      }
    },
    "kernel_info": {
      "name": "python310-sdkv2"
    },
    "nteract": {
      "version": "nteract-front-end@1.0.0"
    }
  },
  "nbformat": 4,
  "nbformat_minor": 2
}