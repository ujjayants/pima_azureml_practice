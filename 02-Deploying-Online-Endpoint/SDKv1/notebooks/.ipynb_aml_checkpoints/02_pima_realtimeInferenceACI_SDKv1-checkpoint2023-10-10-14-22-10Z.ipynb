{
  "cells": [
    {
      "cell_type": "markdown",
      "source": [
        "##### Step 1: Initialize Workspace & Environment"
      ],
      "metadata": {
        "nteract": {
          "transient": {
            "deleting": false
          }
        }
      }
    },
    {
      "cell_type": "code",
      "source": [
        "from azureml.core import Workspace, Model\n",
        "from azureml.core import Environment\n",
        "\n",
        "# Initialize workspace\n",
        "ws = Workspace.from_config()\n",
        "\n",
        "# Get the trained model from registry\n",
        "model_name= 'pima_model_SDKv1_02'\n",
        "model = ws.models[model_name]\n",
        "print(model.name, 'version', model.version)\n",
        "\n",
        "\n",
        "# environment name\n",
        "env_name= 'ENV-SDKv1'\n",
        "\n",
        "# ---- create enviroment using .yaml file\n",
        "# python_packages = Environment.from_conda_specification(env_name, '../dependencies/conda.yaml')\n",
        "# # register the environment\n",
        "# python_packages.register(workspace=ws)\n"
      ],
      "outputs": [
        {
          "output_type": "stream",
          "name": "stdout",
          "text": "pima_model_SDKv1_02 version 3\n"
        }
      ],
      "execution_count": 1,
      "metadata": {
        "gather": {
          "logged": 1699623246333
        }
      }
    },
    {
      "cell_type": "markdown",
      "source": [
        "Step 3: Configure & Deploy Model as a Web Service"
      ],
      "metadata": {
        "nteract": {
          "transient": {
            "deleting": false
          }
        }
      }
    },
    {
      "cell_type": "code",
      "source": [
        "from azureml.core import Environment\n",
        "from azureml.core.model import InferenceConfig\n",
        "from azureml.core.webservice import AciWebservice\n",
        "\n",
        "# Configure the scoring environment\n",
        "service_env = Environment.get(workspace=ws, name=env_name)\n",
        "service_env.inferencing_stack_version=\"latest\" # to use latest version\n",
        "\n",
        "inference_config = InferenceConfig(source_directory='../src/',\n",
        "                                   entry_script= 'pima_scoreRealtimeEndpoint_SDKv1.py',\n",
        "                                   environment=service_env\n",
        "                                   )\n",
        "\n",
        "# Configure the web service container\n",
        "deployment_config = AciWebservice.deploy_configuration(cpu_cores=2, memory_gb=4)\n",
        "\n",
        "# Deploy the model as a service\n",
        "print('Deploying model...')\n",
        "service_name = \"pima-indians-sdkv1-service3\"\n",
        "service = Model.deploy(ws, service_name, [model], inference_config, deployment_config, overwrite=True)\n",
        "service.wait_for_deployment(True)\n",
        "print(service.state)\n",
        "print(service.get_logs())"
      ],
      "outputs": [
        {
          "output_type": "stream",
          "name": "stdout",
          "text": "Deploying model...\nTips: You can try get_logs(): https://aka.ms/debugimage#dockerlog or local deployment: https://aka.ms/debugimage#debug-locally to debug if deployment takes longer than 10 minutes.\nRunning\n2023-11-10 13:41:00+00:00 Creating Container Registry if not exists.\n2023-11-10 13:41:01+00:00 Registering the environment.\n2023-11-10 13:41:01+00:00 Use the existing image.\n2023-11-10 13:41:02+00:00 Generating deployment configuration.\n2023-11-10 13:41:02+00:00 Submitting deployment to compute.\n2023-11-10 13:41:08+00:00 Checking the status of deployment pima-indians-sdkv1-service3..\n2023-11-10 13:43:13+00:00 Checking the status of inference endpoint pima-indians-sdkv1-service3.\nSucceeded\nACI service creation operation finished, operation \"Succeeded\"\nUnhealthy\n/bin/bash: /azureml-envs/azureml_dde9de8808e90dc357d096bbcd2dcc0e/lib/libtinfo.so.6: no version information available (required by /bin/bash)\n/bin/bash: /azureml-envs/azureml_dde9de8808e90dc357d096bbcd2dcc0e/lib/libtinfo.so.6: no version information available (required by /bin/bash)\n/bin/bash: /azureml-envs/azureml_dde9de8808e90dc357d096bbcd2dcc0e/lib/libtinfo.so.6: no version information available (required by /bin/bash)\n2023-11-10T13:42:53,731291000+00:00 - rsyslog/run \n2023-11-10T13:42:53,740517800+00:00 - gunicorn/run \n2023-11-10T13:42:53,744642900+00:00 | gunicorn/run | \n2023-11-10T13:42:53,746747100+00:00 | gunicorn/run | ###############################################\n2023-11-10T13:42:53,749347000+00:00 | gunicorn/run | AzureML Container Runtime Information\n2023-11-10T13:42:53,751295200+00:00 | gunicorn/run | ###############################################\n2023-11-10T13:42:53,754433100+00:00 | gunicorn/run | \n2023-11-10T13:42:53,758300000+00:00 | gunicorn/run | \nbash: /azureml-envs/azureml_dde9de8808e90dc357d096bbcd2dcc0e/lib/libtinfo.so.6: no version information available (required by bash)\n2023-11-10T13:42:53,782651200+00:00 | gunicorn/run | AzureML image information: openmpi4.1.0-ubuntu20.04, Materializaton Build:20230509.v1\n2023-11-10T13:42:53,789557500+00:00 | gunicorn/run | \n2023-11-10T13:42:53,796245000+00:00 | gunicorn/run | \n2023-11-10T13:42:53,801122100+00:00 | gunicorn/run | PATH environment variable: /azureml-envs/azureml_dde9de8808e90dc357d096bbcd2dcc0e/bin:/opt/miniconda/bin:/usr/local/sbin:/usr/local/bin:/usr/sbin:/usr/bin:/sbin:/bin\n2023-11-10T13:42:53,804043300+00:00 | gunicorn/run | PYTHONPATH environment variable: \n2023-11-10T13:42:53,805377400+00:00 - nginx/run \n2023-11-10T13:42:53,806527500+00:00 | gunicorn/run | \n2023-11-10T13:42:57,998726163+00:00 | gunicorn/run | CONDAPATH environment variable: /opt/miniconda\n\n# conda environments:\n#\n                      *  /azureml-envs/azureml_dde9de8808e90dc357d096bbcd2dcc0e\nbase                     /opt/miniconda\n\n2023-11-10T13:42:59,933485763+00:00 | gunicorn/run | \n2023-11-10T13:42:59,936109063+00:00 | gunicorn/run | Pip Dependencies (before dynamic installation)\n\nadal==1.2.7\nargcomplete==2.1.2\nattrs==23.1.0\nazure-common==1.1.28\nazure-core==1.29.4\nazure-graphrbac==0.61.1\nazure-identity==1.14.1\nazure-mgmt-authorization==3.0.0\nazure-mgmt-containerregistry==10.2.0\nazure-mgmt-core==1.4.0\nazure-mgmt-keyvault==10.2.3\nazure-mgmt-resource==21.2.1\nazure-mgmt-storage==20.1.0\nazureml-core==1.49.0\nazureml-dataprep==4.9.7\nazureml-dataprep-native==38.0.0\nazureml-dataprep-rslex==2.16.4\nazureml-dataset-runtime==1.49.0\nazureml-defaults==1.49.0\nazureml-inference-server-http==0.8.4.2\nbackports.tempfile==1.0\nbackports.weakref==1.0.post1\nbcrypt==4.0.1\nbrotlipy==0.7.0\ncachetools==5.3.1\ncertifi @ file:///croot/certifi_1690232220950/work/certifi\ncffi @ file:///croot/cffi_1670423208954/work\ncharset-normalizer @ file:///tmp/build/80754af9/charset-normalizer_1630003229654/work\nclick==8.1.7\ncloudpickle==2.2.1\ncontextlib2==21.6.0\ncryptography==40.0.2\ndistro==1.8.0\ndocker==6.1.3\ndotnetcore2==3.1.23\nFlask==2.2.5\nFlask-Cors==3.0.10\nfusepy==3.0.1\ngoogle-api-core==2.12.0\ngoogle-auth==2.23.3\ngoogleapis-common-protos==1.60.0\ngunicorn==20.1.0\nhumanfriendly==10.0\nidna @ file:///croot/idna_1666125576474/work\nimportlib-metadata==6.8.0\nimportlib-resources==6.1.0\ninference-schema==1.7\nisodate==0.6.1\nitsdangerous==2.1.2\njeepney==0.8.0\nJinja2==3.1.2\njmespath==1.0.1\njoblib @ file:///croot/joblib_1685113087166/work\njsonpickle==2.2.0\njsonschema==4.19.1\njsonschema-specifications==2023.7.1\nknack==0.10.1\nMarkupSafe==2.1.3\nmkl-fft==1.3.1\nmkl-random @ file:///tmp/build/80754af9/mkl_random_1626186064646/work\nmkl-service==2.4.0\nmsal==1.24.1\nmsal-extensions==1.0.0\nmsrest==0.7.1\nmsrestazure==0.6.4\nndg-httpsclient==0.5.1\nnumpy @ file:///tmp/build/80754af9/numpy_and_numpy_base_1634095647912/work\noauthlib==3.2.2\nopencensus==0.11.3\nopencensus-context==0.1.3\nopencensus-ext-azure==1.1.10\npackaging==21.3\npandas==1.1.5\nparamiko==2.12.0\npathspec==0.11.2\npkginfo==1.9.6\npkgutil_resolve_name==1.3.10\nplatformdirs @ file:///croot/platformdirs_1692205439124/work\npooch @ file:///croot/pooch_1695850093751/work\nportalocker==2.8.2\nprotobuf==4.24.4\npsutil==5.9.5\npyarrow==9.0.0\npyasn1==0.5.0\npyasn1-modules==0.3.0\npycparser @ file:///tmp/build/80754af9/pycparser_1636541352034/work\npydantic==1.10.13\nPygments==2.16.1\nPyJWT==2.8.0\nPyNaCl==1.5.0\npyOpenSSL @ file:///croot/pyopenssl_1690223430423/work\npyparsing==3.1.1\nPySocks @ file:///tmp/build/80754af9/pysocks_1605305779399/work\npython-dateutil @ file:///tmp/build/80754af9/python-dateutil_1626374649649/work\npytz @ file:///croot/pytz_1695131579487/work\nPyYAML==6.0.1\nreferencing==0.30.2\nrequests @ file:///croot/requests_1690400202158/work\nrequests-oauthlib==1.3.1\nrpds-py==0.10.4\nrsa==4.9\nscikit-learn @ file:///tmp/abs_d76175bc-917a-47d4-9994-b56265948a6328vmoe2o/croots/recipe/scikit-learn_1658419412415/work\nscipy==1.10.1\nSecretStorage==3.3.3\nsix @ file:///tmp/build/80754af9/six_1644875935023/work\ntabulate==0.9.0\nthreadpoolctl @ file:///Users/ktietz/demo/mc3/conda-bld/threadpoolctl_1629802263681/work\ntyping_extensions==4.8.0\nurllib3 @ file:///croot/urllib3_1686163155763/work\nwebsocket-client==1.6.4\nWerkzeug==3.0.0\nwrapt==1.12.1\nzipp==3.17.0\n\n2023-11-10T13:43:04,290129356+00:00 | gunicorn/run | \n2023-11-10T13:43:04,291739139+00:00 | gunicorn/run | Entry script directory: /var/azureml-app/src\n2023-11-10T13:43:04,295679097+00:00 | gunicorn/run | \n2023-11-10T13:43:04,300880642+00:00 | gunicorn/run | ###############################################\n2023-11-10T13:43:04,303377316+00:00 | gunicorn/run | Dynamic Python Package Installation\n2023-11-10T13:43:04,305584692+00:00 | gunicorn/run | ###############################################\n2023-11-10T13:43:04,307638471+00:00 | gunicorn/run | \n2023-11-10T13:43:04,309710849+00:00 | gunicorn/run | Dynamic Python package installation is disabled.\n2023-11-10T13:43:04,320507434+00:00 | gunicorn/run | \n2023-11-10T13:43:04,322249016+00:00 | gunicorn/run | ###############################################\n2023-11-10T13:43:04,328377451+00:00 | gunicorn/run | Checking if the Python package azureml-inference-server-http is installed\n2023-11-10T13:43:04,331333820+00:00 | gunicorn/run | ###############################################\n2023-11-10T13:43:04,333288399+00:00 | gunicorn/run | \n2023-11-10T13:43:05,994668410+00:00 | gunicorn/run | \n2023-11-10T13:43:05,997202583+00:00 | gunicorn/run | ###############################################\n2023-11-10T13:43:05,999687157+00:00 | gunicorn/run | AzureML Inference Server\n2023-11-10T13:43:06,004682804+00:00 | gunicorn/run | ###############################################\n2023-11-10T13:43:06,006939380+00:00 | gunicorn/run | \n2023-11-10T13:43:06,009614752+00:00 | gunicorn/run | Starting AzureML Inference Server HTTP.\n2023-11-10 13:43:06,731 I [79] azmlinfsrv - Loaded logging config from /azureml-envs/azureml_dde9de8808e90dc357d096bbcd2dcc0e/lib/python3.8/site-packages/azureml_inference_server_http/logging.json\n2023-11-10 13:43:07,062 I [79] gunicorn.error - Starting gunicorn 20.1.0\n2023-11-10 13:43:07,063 I [79] gunicorn.error - Listening at: http://0.0.0.0:31311 (79)\n2023-11-10 13:43:07,063 I [79] gunicorn.error - Using worker: sync\n2023-11-10 13:43:07,072 I [156] gunicorn.error - Booting worker with pid: 156\n\nAzure ML Inferencing HTTP server v0.8.4.2\n\n\nServer Settings\n---------------\nEntry Script Name: /var/azureml-app/src/pima_scoreRealtimeEndpoint_SDKv1.py\nModel Directory: /var/azureml-app/azureml-models/pima_model_SDKv1_02/3\nConfig File: None\nWorker Count: 1\nWorker Timeout (seconds): 300\nServer Port: 31311\nHealth Port: 31311\nApplication Insights Enabled: false\nApplication Insights Key: None\nInferencing HTTP server version: azmlinfsrv/0.8.4.2\nCORS for the specified origins: None\nCreate dedicated endpoint for health: None\n\n\nServer Routes\n---------------\nLiveness Probe: GET   127.0.0.1:31311/\nScore:          POST  127.0.0.1:31311/score\n\n2023-11-10 13:43:09,994 I [156] azmlinfsrv - AML_FLASK_ONE_COMPATIBILITY is set. Patched Flask to ensure compatibility with Flask 1.\nInitializing logger\n2023-11-10 13:43:09,997 I [156] azmlinfsrv - Starting up app insights client\n2023-11-10 13:43:17,411 I [156] azmlinfsrv.user_script - Found user script at /var/azureml-app/src/pima_scoreRealtimeEndpoint_SDKv1.py\n2023-11-10 13:43:17,412 I [156] azmlinfsrv.user_script - run() is not decorated. Server will invoke it with the input in JSON string.\n2023-11-10 13:43:17,413 I [156] azmlinfsrv.user_script - Invoking user's init function\n2023-11-10 13:43:17,413 I [156] azmlinfsrv.print - /var/azureml-app/azureml-models/pima_model_SDKv1_02/3\n2023-11-10 13:43:17,413 I [156] azmlinfsrv.print - /var/azureml-app/azureml-models/pima_model_SDKv1_02/3/pima_model_SDKv1_02.pkl\n2023-11-10 13:43:23,812 I [156] azmlinfsrv.print - model loaded\n2023-11-10 13:43:23,818 I [156] azmlinfsrv.print - RandomForestClassifier(class_weight='balanced', max_depth=100, max_features=2,\n                       min_samples_leaf=5, min_samples_split=10,\n                       n_estimators=1000, random_state=42)\n2023-11-10 13:43:23,819 I [156] azmlinfsrv.print - MinMaxScaler()\n2023-11-10 13:43:23,830 I [156] azmlinfsrv.print - {'BM_DESC': ['Over', 'Obese', 'Healthy', 'Under']\nCategories (4, object): ['Over', 'Obese', 'Healthy', 'Under'], 'INSULIN_DESC': ['Normal', 'Abnormal']\nCategories (2, object): ['Normal', 'Abnormal']}\n2023-11-10 13:43:23,830 I [156] azmlinfsrv.user_script - Users's init has completed successfully\n2023-11-10 13:43:23,838 I [156] azmlinfsrv.swagger - Swaggers are prepared for the following versions: [2, 3, 3.1].\n2023-11-10 13:43:23,838 I [156] azmlinfsrv - Scoring timeout is set to 60000\n2023-11-10 13:43:23,839 I [156] azmlinfsrv - Worker with pid 156 ready for serving traffic\n2023-11-10 13:43:23,845 W [156] azmlinfsrv - x-ms-request-id header has been deprecated and will be removed from future versions of the server. Please use x-ms-client-request-id.\n2023-11-10 13:43:23,847 I [156] gunicorn.access - 127.0.0.1 - - [10/Nov/2023:13:43:23 +0000] \"GET / HTTP/1.0\" 200 7 \"-\" \"Go-http-client/1.1\"\n2023-11-10 13:43:23,850 W [156] azmlinfsrv - x-ms-request-id header has been deprecated and will be removed from future versions of the server. Please use x-ms-client-request-id.\n2023-11-10 13:43:23,852 I [156] gunicorn.access - 127.0.0.1 - - [10/Nov/2023:13:43:23 +0000] \"GET / HTTP/1.0\" 200 7 \"-\" \"Go-http-client/1.1\"\n2023-11-10 13:43:25,453 I [156] gunicorn.access - 127.0.0.1 - - [10/Nov/2023:13:43:25 +0000] \"GET / HTTP/1.0\" 200 7 \"-\" \"curl/7.58.0\"\n2023-11-10 13:43:35,962 W [156] azmlinfsrv - x-ms-request-id header has been deprecated and will be removed from future versions of the server. Please use x-ms-client-request-id.\n2023-11-10 13:43:35,963 I [156] gunicorn.access - 127.0.0.1 - - [10/Nov/2023:13:43:35 +0000] \"GET / HTTP/1.0\" 200 7 \"-\" \"Go-http-client/1.1\"\n2023-11-10 13:43:35,968 W [156] azmlinfsrv - x-ms-request-id header has been deprecated and will be removed from future versions of the server. Please use x-ms-client-request-id.\n2023-11-10 13:43:35,969 I [156] azmlinfsrv - GET /swagger.json 200 0.789ms 2232\n2023-11-10 13:43:35,970 I [156] gunicorn.access - 127.0.0.1 - - [10/Nov/2023:13:43:35 +0000] \"GET /swagger.json HTTP/1.0\" 200 2232 \"-\" \"Go-http-client/1.1\"\n\n"
        },
        {
          "output_type": "stream",
          "name": "stderr",
          "text": "/tmp/ipykernel_55961/4153428433.py:20: FutureWarning: azureml.core.model:\nTo leverage new model deployment capabilities, AzureML recommends using CLI/SDK v2 to deploy models as online endpoint, \nplease refer to respective documentations \nhttps://docs.microsoft.com/azure/machine-learning/how-to-deploy-managed-online-endpoints /\nhttps://docs.microsoft.com/azure/machine-learning/how-to-attach-kubernetes-anywhere \nFor more information on migration, see https://aka.ms/acimoemigration \nTo disable CLI/SDK v1 deprecation warning set AZUREML_LOG_DEPRECATION_WARNING_ENABLED to 'False'\n  service = Model.deploy(ws, service_name, [model], inference_config, deployment_config, overwrite=True)\n"
        }
      ],
      "execution_count": 3,
      "metadata": {
        "jupyter": {
          "source_hidden": false,
          "outputs_hidden": false
        },
        "nteract": {
          "transient": {
            "deleting": false
          }
        },
        "gather": {
          "logged": 1699623810187
        }
      }
    },
    {
      "cell_type": "code",
      "source": [
        "import json\n",
        "\n",
        "x_new = [[1.25,-1.22,0.38,-1.23,-1.49,-0.75,-0.69,-0.23,-2.09,1.32,0.23,-0.24,1.21,-0.32,\n",
        "          0.73,-0.82,0.87,-0.85,-0.68,-0.10,-0.23,-0.48,0.08,0.39,0.16,-0.35,0.03,1.50]]\n",
        "# print ('data: {}'.format(x_new[0]))\n",
        "\n",
        "# Convert the array to a serializable list in a JSON document\n",
        "inn = json.dumps({\"data\": x_new})\n"
      ],
      "outputs": [],
      "execution_count": 7,
      "metadata": {
        "jupyter": {
          "source_hidden": false,
          "outputs_hidden": false
        },
        "nteract": {
          "transient": {
            "deleting": false
          }
        },
        "gather": {
          "logged": 1699624631571
        }
      }
    },
    {
      "cell_type": "code",
      "source": [
        "import ast\n",
        "dd = pd.DataFrame(json.loads(inn)['data'])\n",
        "#ast.literal_eval(inn)['data']"
      ],
      "outputs": [],
      "execution_count": 29,
      "metadata": {
        "jupyter": {
          "source_hidden": false,
          "outputs_hidden": false
        },
        "nteract": {
          "transient": {
            "deleting": false
          }
        },
        "gather": {
          "logged": 1699625977581
        }
      }
    },
    {
      "cell_type": "code",
      "source": [
        "import pandas as pd\n",
        "\n",
        "\n",
        "#pd.DataFrame.from_dict( ast.literal_eval(inn)['data'], orient='index')\n",
        "#train.reset_index(level=0, inplace=True)\n",
        "\n",
        "\n",
        "pd.DataFrame(ast.literal_eval(inn)['data'])\n"
      ],
      "outputs": [
        {
          "output_type": "execute_result",
          "execution_count": 23,
          "data": {
            "text/plain": "     0     1     2     3     4     5     6     7     8     9   ...    18   19  \\\n0  1.25 -1.22  0.38 -1.23 -1.49 -0.75 -0.69 -0.23 -2.09  1.32  ... -0.68 -0.1   \n\n     20    21    22    23    24    25    26   27  \n0 -0.23 -0.48  0.08  0.39  0.16 -0.35  0.03  1.5  \n\n[1 rows x 28 columns]",
            "text/html": "<div>\n<style scoped>\n    .dataframe tbody tr th:only-of-type {\n        vertical-align: middle;\n    }\n\n    .dataframe tbody tr th {\n        vertical-align: top;\n    }\n\n    .dataframe thead th {\n        text-align: right;\n    }\n</style>\n<table border=\"1\" class=\"dataframe\">\n  <thead>\n    <tr style=\"text-align: right;\">\n      <th></th>\n      <th>0</th>\n      <th>1</th>\n      <th>2</th>\n      <th>3</th>\n      <th>4</th>\n      <th>5</th>\n      <th>6</th>\n      <th>7</th>\n      <th>8</th>\n      <th>9</th>\n      <th>...</th>\n      <th>18</th>\n      <th>19</th>\n      <th>20</th>\n      <th>21</th>\n      <th>22</th>\n      <th>23</th>\n      <th>24</th>\n      <th>25</th>\n      <th>26</th>\n      <th>27</th>\n    </tr>\n  </thead>\n  <tbody>\n    <tr>\n      <th>0</th>\n      <td>1.25</td>\n      <td>-1.22</td>\n      <td>0.38</td>\n      <td>-1.23</td>\n      <td>-1.49</td>\n      <td>-0.75</td>\n      <td>-0.69</td>\n      <td>-0.23</td>\n      <td>-2.09</td>\n      <td>1.32</td>\n      <td>...</td>\n      <td>-0.68</td>\n      <td>-0.1</td>\n      <td>-0.23</td>\n      <td>-0.48</td>\n      <td>0.08</td>\n      <td>0.39</td>\n      <td>0.16</td>\n      <td>-0.35</td>\n      <td>0.03</td>\n      <td>1.5</td>\n    </tr>\n  </tbody>\n</table>\n<p>1 rows × 28 columns</p>\n</div>"
          },
          "metadata": {}
        }
      ],
      "execution_count": 23,
      "metadata": {
        "jupyter": {
          "source_hidden": false,
          "outputs_hidden": false
        },
        "nteract": {
          "transient": {
            "deleting": false
          }
        },
        "gather": {
          "logged": 1699624971761
        }
      }
    },
    {
      "cell_type": "code",
      "source": [
        "{ i:  \"A_\"+str(i)  for i in range(dd.shape[1])  }\n",
        "\n",
        "#dd.columns\n",
        "\n"
      ],
      "outputs": [
        {
          "output_type": "execute_result",
          "execution_count": 34,
          "data": {
            "text/plain": "{0: 'A_0',\n 1: 'A_1',\n 2: 'A_2',\n 3: 'A_3',\n 4: 'A_4',\n 5: 'A_5',\n 6: 'A_6',\n 7: 'A_7',\n 8: 'A_8',\n 9: 'A_9',\n 10: 'A_10',\n 11: 'A_11',\n 12: 'A_12',\n 13: 'A_13',\n 14: 'A_14',\n 15: 'A_15',\n 16: 'A_16',\n 17: 'A_17',\n 18: 'A_18',\n 19: 'A_19',\n 20: 'A_20',\n 21: 'A_21',\n 22: 'A_22',\n 23: 'A_23',\n 24: 'A_24',\n 25: 'A_25',\n 26: 'A_26',\n 27: 'A_27'}"
          },
          "metadata": {}
        }
      ],
      "execution_count": 34,
      "metadata": {
        "jupyter": {
          "source_hidden": false,
          "outputs_hidden": false
        },
        "nteract": {
          "transient": {
            "deleting": false
          }
        },
        "gather": {
          "logged": 1699626106749
        }
      }
    }
  ],
  "metadata": {
    "kernelspec": {
      "name": "python310-sdkv2",
      "language": "python",
      "display_name": "Python 3.10 - SDK v2"
    },
    "language_info": {
      "name": "python",
      "version": "3.10.11",
      "mimetype": "text/x-python",
      "codemirror_mode": {
        "name": "ipython",
        "version": 3
      },
      "pygments_lexer": "ipython3",
      "nbconvert_exporter": "python",
      "file_extension": ".py"
    },
    "microsoft": {
      "ms_spell_check": {
        "ms_spell_check_language": "en"
      },
      "host": {
        "AzureML": {
          "notebookHasBeenCompleted": true
        }
      }
    },
    "kernel_info": {
      "name": "python310-sdkv2"
    },
    "nteract": {
      "version": "nteract-front-end@1.0.0"
    }
  },
  "nbformat": 4,
  "nbformat_minor": 2
}