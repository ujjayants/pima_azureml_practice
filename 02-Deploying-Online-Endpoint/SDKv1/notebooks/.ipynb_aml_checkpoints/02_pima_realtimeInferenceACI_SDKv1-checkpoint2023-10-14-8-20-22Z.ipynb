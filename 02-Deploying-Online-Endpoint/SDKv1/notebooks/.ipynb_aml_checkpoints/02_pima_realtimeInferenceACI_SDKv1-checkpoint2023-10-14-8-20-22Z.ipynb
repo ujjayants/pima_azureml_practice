{
  "cells": [
    {
      "cell_type": "markdown",
      "source": [
        "##### Step 1: Initialize Workspace & Environment"
      ],
      "metadata": {
        "nteract": {
          "transient": {
            "deleting": false
          }
        }
      }
    },
    {
      "cell_type": "code",
      "source": [
        "from azureml.core import Workspace, Model\n",
        "from azureml.core import Environment\n",
        "\n",
        "# Initialize workspace\n",
        "ws = Workspace.from_config()\n",
        "\n",
        "# Get the trained model from registry\n",
        "model_name= 'pima_model_SDKv1_02'\n",
        "model = ws.models[model_name]\n",
        "print(model.name, 'version', model.version)\n",
        "\n",
        "\n",
        "# environment name\n",
        "env_name= 'ENV-SDKv1'\n",
        "\n",
        "# ---- create enviroment using .yaml file\n",
        "# python_packages = Environment.from_conda_specification(env_name, '../dependencies/conda.yaml')\n",
        "# # register the environment\n",
        "# python_packages.register(workspace=ws)\n"
      ],
      "outputs": [
        {
          "output_type": "stream",
          "name": "stdout",
          "text": "pima_model_SDKv1_02 version 4\n"
        }
      ],
      "execution_count": 61,
      "metadata": {
        "gather": {
          "logged": 1699641951558
        }
      }
    },
    {
      "cell_type": "markdown",
      "source": [
        "Step 3: Configure & Deploy Model as a Web Service"
      ],
      "metadata": {
        "nteract": {
          "transient": {
            "deleting": false
          }
        }
      }
    },
    {
      "cell_type": "code",
      "source": [
        "from azureml.core import Environment\n",
        "from azureml.core.model import InferenceConfig\n",
        "from azureml.core.webservice import AciWebservice\n",
        "\n",
        "# Configure the scoring environment\n",
        "service_env = Environment.get(workspace=ws, name=env_name)\n",
        "service_env.inferencing_stack_version=\"latest\" # to use latest version\n",
        "\n",
        "inference_config = InferenceConfig(source_directory='../src/',\n",
        "                                   entry_script= 'pima_scoreRealtimeEndpoint_SDKv1.py',\n",
        "                                   environment=service_env\n",
        "                                   )\n",
        "\n",
        "# Configure the web service container\n",
        "deployment_config = AciWebservice.deploy_configuration(cpu_cores=2, memory_gb=4)\n",
        "\n",
        "# Deploy the model as a service\n",
        "print('Deploying model...')\n",
        "service_name = \"pima-indians-sdkv1-service3\"\n",
        "service = Model.deploy(ws, service_name, [model], inference_config, deployment_config, overwrite=True)\n",
        "service.wait_for_deployment(True)\n",
        "print(service.state)\n",
        "print(service.get_logs())"
      ],
      "outputs": [
        {
          "output_type": "stream",
          "name": "stdout",
          "text": "Deploying model...\nTips: You can try get_logs(): https://aka.ms/debugimage#dockerlog or local deployment: https://aka.ms/debugimage#debug-locally to debug if deployment takes longer than 10 minutes.\nRunning\n2023-11-10 18:46:25+00:00 Creating Container Registry if not exists.\n2023-11-10 18:46:27+00:00 Use the existing image.\n2023-11-10 18:46:28+00:00 Generating deployment configuration.\n2023-11-10 18:46:29+00:00 Submitting deployment to compute.\n2023-11-10 18:46:34+00:00 Checking the status of deployment pima-indians-sdkv1-service3..\n2023-11-10 18:48:18+00:00 Checking the status of inference endpoint pima-indians-sdkv1-service3.\nSucceeded\nACI service creation operation finished, operation \"Succeeded\"\nHealthy\n/bin/bash: /azureml-envs/azureml_dde9de8808e90dc357d096bbcd2dcc0e/lib/libtinfo.so.6: no version information available (required by /bin/bash)\n/bin/bash: /azureml-envs/azureml_dde9de8808e90dc357d096bbcd2dcc0e/lib/libtinfo.so.6: no version information available (required by /bin/bash)\n/bin/bash: /azureml-envs/azureml_dde9de8808e90dc357d096bbcd2dcc0e/lib/libtinfo.so.6: no version information available (required by /bin/bash)\n2023-11-10T18:48:02,301861000+00:00 - rsyslog/run \n2023-11-10T18:48:02,312353000+00:00 - gunicorn/run \n2023-11-10T18:48:02,313941800+00:00 | gunicorn/run | \n2023-11-10T18:48:02,321696400+00:00 | gunicorn/run | ###############################################\nbash: /azureml-envs/azureml_dde9de8808e90dc357d096bbcd2dcc0e/lib/libtinfo.so.6: no version information available (required by bash)\n2023-11-10T18:48:02,328255100+00:00 | gunicorn/run | AzureML Container Runtime Information\n2023-11-10T18:48:02,330412300+00:00 | gunicorn/run | ###############################################\n2023-11-10T18:48:02,336618800+00:00 | gunicorn/run | \n2023-11-10T18:48:02,338801900+00:00 - nginx/run \n2023-11-10T18:48:02,342061000+00:00 | gunicorn/run | \n2023-11-10T18:48:02,356693500+00:00 | gunicorn/run | AzureML image information: openmpi4.1.0-ubuntu20.04, Materializaton Build:20230509.v1\n2023-11-10T18:48:02,363371500+00:00 | gunicorn/run | \n2023-11-10T18:48:02,368094000+00:00 | gunicorn/run | \n2023-11-10T18:48:02,375494100+00:00 | gunicorn/run | PATH environment variable: /azureml-envs/azureml_dde9de8808e90dc357d096bbcd2dcc0e/bin:/opt/miniconda/bin:/usr/local/sbin:/usr/local/bin:/usr/sbin:/usr/bin:/sbin:/bin\n2023-11-10T18:48:02,383650200+00:00 | gunicorn/run | PYTHONPATH environment variable: \n2023-11-10T18:48:02,390381000+00:00 | gunicorn/run | \n2023-11-10T18:48:04,172748400+00:00 | gunicorn/run | CONDAPATH environment variable: /opt/miniconda\n\n# conda environments:\n#\n                      *  /azureml-envs/azureml_dde9de8808e90dc357d096bbcd2dcc0e\nbase                     /opt/miniconda\n\n2023-11-10T18:48:06,038743183+00:00 | gunicorn/run | \n2023-11-10T18:48:06,041618080+00:00 | gunicorn/run | Pip Dependencies (before dynamic installation)\n\nadal==1.2.7\nargcomplete==2.1.2\nattrs==23.1.0\nazure-common==1.1.28\nazure-core==1.29.4\nazure-graphrbac==0.61.1\nazure-identity==1.14.1\nazure-mgmt-authorization==3.0.0\nazure-mgmt-containerregistry==10.2.0\nazure-mgmt-core==1.4.0\nazure-mgmt-keyvault==10.2.3\nazure-mgmt-resource==21.2.1\nazure-mgmt-storage==20.1.0\nazureml-core==1.49.0\nazureml-dataprep==4.9.7\nazureml-dataprep-native==38.0.0\nazureml-dataprep-rslex==2.16.4\nazureml-dataset-runtime==1.49.0\nazureml-defaults==1.49.0\nazureml-inference-server-http==0.8.4.2\nbackports.tempfile==1.0\nbackports.weakref==1.0.post1\nbcrypt==4.0.1\nbrotlipy==0.7.0\ncachetools==5.3.1\ncertifi @ file:///croot/certifi_1690232220950/work/certifi\ncffi @ file:///croot/cffi_1670423208954/work\ncharset-normalizer @ file:///tmp/build/80754af9/charset-normalizer_1630003229654/work\nclick==8.1.7\ncloudpickle==2.2.1\ncontextlib2==21.6.0\ncryptography==40.0.2\ndistro==1.8.0\ndocker==6.1.3\ndotnetcore2==3.1.23\nFlask==2.2.5\nFlask-Cors==3.0.10\nfusepy==3.0.1\ngoogle-api-core==2.12.0\ngoogle-auth==2.23.3\ngoogleapis-common-protos==1.60.0\ngunicorn==20.1.0\nhumanfriendly==10.0\nidna @ file:///croot/idna_1666125576474/work\nimportlib-metadata==6.8.0\nimportlib-resources==6.1.0\ninference-schema==1.7\nisodate==0.6.1\nitsdangerous==2.1.2\njeepney==0.8.0\nJinja2==3.1.2\njmespath==1.0.1\njoblib @ file:///croot/joblib_1685113087166/work\njsonpickle==2.2.0\njsonschema==4.19.1\njsonschema-specifications==2023.7.1\nknack==0.10.1\nMarkupSafe==2.1.3\nmkl-fft==1.3.1\nmkl-random @ file:///tmp/build/80754af9/mkl_random_1626186064646/work\nmkl-service==2.4.0\nmsal==1.24.1\nmsal-extensions==1.0.0\nmsrest==0.7.1\nmsrestazure==0.6.4\nndg-httpsclient==0.5.1\nnumpy @ file:///tmp/build/80754af9/numpy_and_numpy_base_1634095647912/work\noauthlib==3.2.2\nopencensus==0.11.3\nopencensus-context==0.1.3\nopencensus-ext-azure==1.1.10\npackaging==21.3\npandas==1.1.5\nparamiko==2.12.0\npathspec==0.11.2\npkginfo==1.9.6\npkgutil_resolve_name==1.3.10\nplatformdirs @ file:///croot/platformdirs_1692205439124/work\npooch @ file:///croot/pooch_1695850093751/work\nportalocker==2.8.2\nprotobuf==4.24.4\npsutil==5.9.5\npyarrow==9.0.0\npyasn1==0.5.0\npyasn1-modules==0.3.0\npycparser @ file:///tmp/build/80754af9/pycparser_1636541352034/work\npydantic==1.10.13\nPygments==2.16.1\nPyJWT==2.8.0\nPyNaCl==1.5.0\npyOpenSSL @ file:///croot/pyopenssl_1690223430423/work\npyparsing==3.1.1\nPySocks @ file:///tmp/build/80754af9/pysocks_1605305779399/work\npython-dateutil @ file:///tmp/build/80754af9/python-dateutil_1626374649649/work\npytz @ file:///croot/pytz_1695131579487/work\nPyYAML==6.0.1\nreferencing==0.30.2\nrequests @ file:///croot/requests_1690400202158/work\nrequests-oauthlib==1.3.1\nrpds-py==0.10.4\nrsa==4.9\nscikit-learn @ file:///tmp/abs_d76175bc-917a-47d4-9994-b56265948a6328vmoe2o/croots/recipe/scikit-learn_1658419412415/work\nscipy==1.10.1\nSecretStorage==3.3.3\nsix @ file:///tmp/build/80754af9/six_1644875935023/work\ntabulate==0.9.0\nthreadpoolctl @ file:///Users/ktietz/demo/mc3/conda-bld/threadpoolctl_1629802263681/work\ntyping_extensions==4.8.0\nurllib3 @ file:///croot/urllib3_1686163155763/work\nwebsocket-client==1.6.4\nWerkzeug==3.0.0\nwrapt==1.12.1\nzipp==3.17.0\n\n2023-11-10T18:48:07,894966474+00:00 | gunicorn/run | \n2023-11-10T18:48:07,899330274+00:00 | gunicorn/run | Entry script directory: /var/azureml-app/src\n2023-11-10T18:48:07,904903474+00:00 | gunicorn/run | \n2023-11-10T18:48:07,908363574+00:00 | gunicorn/run | ###############################################\n2023-11-10T18:48:07,918969974+00:00 | gunicorn/run | Dynamic Python Package Installation\n2023-11-10T18:48:07,921508774+00:00 | gunicorn/run | ###############################################\n2023-11-10T18:48:07,923275774+00:00 | gunicorn/run | \n2023-11-10T18:48:07,927863974+00:00 | gunicorn/run | Dynamic Python package installation is disabled.\n2023-11-10T18:48:07,931520474+00:00 | gunicorn/run | \n2023-11-10T18:48:07,934180574+00:00 | gunicorn/run | ###############################################\n2023-11-10T18:48:07,936341174+00:00 | gunicorn/run | Checking if the Python package azureml-inference-server-http is installed\n2023-11-10T18:48:07,938578474+00:00 | gunicorn/run | ###############################################\n2023-11-10T18:48:07,941591274+00:00 | gunicorn/run | \n2023-11-10T18:48:11,098956874+00:00 | gunicorn/run | \n2023-11-10T18:48:11,103878674+00:00 | gunicorn/run | ###############################################\n2023-11-10T18:48:11,112807074+00:00 | gunicorn/run | AzureML Inference Server\n2023-11-10T18:48:11,115339674+00:00 | gunicorn/run | ###############################################\n2023-11-10T18:48:11,118337774+00:00 | gunicorn/run | \n2023-11-10T18:48:11,122625074+00:00 | gunicorn/run | Starting AzureML Inference Server HTTP.\n2023-11-10 18:48:11,685 I [74] azmlinfsrv - Loaded logging config from /azureml-envs/azureml_dde9de8808e90dc357d096bbcd2dcc0e/lib/python3.8/site-packages/azureml_inference_server_http/logging.json\n2023-11-10 18:48:11,968 I [74] gunicorn.error - Starting gunicorn 20.1.0\n2023-11-10 18:48:11,970 I [74] gunicorn.error - Listening at: http://0.0.0.0:31311 (74)\n2023-11-10 18:48:11,971 I [74] gunicorn.error - Using worker: sync\n2023-11-10 18:48:11,983 I [140] gunicorn.error - Booting worker with pid: 140\n\nAzure ML Inferencing HTTP server v0.8.4.2\n\n\nServer Settings\n---------------\nEntry Script Name: /var/azureml-app/src/pima_scoreRealtimeEndpoint_SDKv1.py\nModel Directory: /var/azureml-app/azureml-models/pima_model_SDKv1_02/4\nConfig File: None\nWorker Count: 1\nWorker Timeout (seconds): 300\nServer Port: 31311\nHealth Port: 31311\nApplication Insights Enabled: false\nApplication Insights Key: None\nInferencing HTTP server version: azmlinfsrv/0.8.4.2\nCORS for the specified origins: None\nCreate dedicated endpoint for health: None\n\n\nServer Routes\n---------------\nLiveness Probe: GET   127.0.0.1:31311/\nScore:          POST  127.0.0.1:31311/score\n\n2023-11-10 18:48:13,281 I [140] azmlinfsrv - AML_FLASK_ONE_COMPATIBILITY is set. Patched Flask to ensure compatibility with Flask 1.\nInitializing logger\n2023-11-10 18:48:13,284 I [140] azmlinfsrv - Starting up app insights client\n2023-11-10 18:48:16,752 I [140] azmlinfsrv.user_script - Found user script at /var/azureml-app/src/pima_scoreRealtimeEndpoint_SDKv1.py\n2023-11-10 18:48:16,752 I [140] azmlinfsrv.user_script - run() is not decorated. Server will invoke it with the input in JSON string.\n2023-11-10 18:48:16,752 I [140] azmlinfsrv.user_script - Invoking user's init function\n2023-11-10 18:48:16,752 I [140] azmlinfsrv.print - /var/azureml-app/azureml-models/pima_model_SDKv1_02/4\n2023-11-10 18:48:16,752 I [140] azmlinfsrv.print - /var/azureml-app/azureml-models/pima_model_SDKv1_02/4/pima_model_SDKv1_02.pkl\n2023-11-10 18:48:19,026 I [140] azmlinfsrv.print - model loaded\n2023-11-10 18:48:19,029 I [140] azmlinfsrv.print - RandomForestClassifier(class_weight='balanced', max_depth=100, max_features=2,\n                       min_samples_leaf=5, min_samples_split=10,\n                       n_estimators=1000, random_state=42)\n2023-11-10 18:48:19,030 I [140] azmlinfsrv.print - MinMaxScaler()\n2023-11-10 18:48:19,041 I [140] azmlinfsrv.print - {'BM_DESC': ['Over', 'Obese', 'Healthy', 'Under']\nCategories (4, object): ['Over', 'Obese', 'Healthy', 'Under'], 'INSULIN_DESC': ['Normal', 'Abnormal']\nCategories (2, object): ['Normal', 'Abnormal']}\n2023-11-10 18:48:19,041 I [140] azmlinfsrv.user_script - Users's init has completed successfully\n2023-11-10 18:48:19,044 I [140] azmlinfsrv.swagger - Swaggers are prepared for the following versions: [2, 3, 3.1].\n2023-11-10 18:48:19,044 I [140] azmlinfsrv - Scoring timeout is set to 60000\n2023-11-10 18:48:19,044 I [140] azmlinfsrv - Worker with pid 140 ready for serving traffic\n2023-11-10 18:48:23,241 W [140] azmlinfsrv - x-ms-request-id header has been deprecated and will be removed from future versions of the server. Please use x-ms-client-request-id.\n2023-11-10 18:48:23,243 I [140] gunicorn.access - 127.0.0.1 - - [10/Nov/2023:18:48:23 +0000] \"GET / HTTP/1.0\" 200 7 \"-\" \"Go-http-client/1.1\"\n2023-11-10 18:48:23,249 W [140] azmlinfsrv - x-ms-request-id header has been deprecated and will be removed from future versions of the server. Please use x-ms-client-request-id.\n2023-11-10 18:48:23,251 I [140] azmlinfsrv - GET /swagger.json 200 2.446ms 2232\n2023-11-10 18:48:23,253 I [140] gunicorn.access - 127.0.0.1 - - [10/Nov/2023:18:48:23 +0000] \"GET /swagger.json HTTP/1.0\" 200 2232 \"-\" \"Go-http-client/1.1\"\n2023-11-10 18:48:31,033 W [140] azmlinfsrv - x-ms-request-id header has been deprecated and will be removed from future versions of the server. Please use x-ms-client-request-id.\n2023-11-10 18:48:31,035 I [140] gunicorn.access - 127.0.0.1 - - [10/Nov/2023:18:48:31 +0000] \"GET / HTTP/1.0\" 200 7 \"-\" \"Go-http-client/1.1\"\n2023-11-10 18:48:31,043 W [140] azmlinfsrv - x-ms-request-id header has been deprecated and will be removed from future versions of the server. Please use x-ms-client-request-id.\n2023-11-10 18:48:31,045 I [140] azmlinfsrv - GET /swagger.json 200 0.910ms 2232\n2023-11-10 18:48:31,046 I [140] gunicorn.access - 127.0.0.1 - - [10/Nov/2023:18:48:31 +0000] \"GET /swagger.json HTTP/1.0\" 200 2232 \"-\" \"Go-http-client/1.1\"\n\n"
        },
        {
          "output_type": "stream",
          "name": "stderr",
          "text": "/tmp/ipykernel_55961/4153428433.py:20: FutureWarning: azureml.core.model:\nTo leverage new model deployment capabilities, AzureML recommends using CLI/SDK v2 to deploy models as online endpoint, \nplease refer to respective documentations \nhttps://docs.microsoft.com/azure/machine-learning/how-to-deploy-managed-online-endpoints /\nhttps://docs.microsoft.com/azure/machine-learning/how-to-attach-kubernetes-anywhere \nFor more information on migration, see https://aka.ms/acimoemigration \nTo disable CLI/SDK v1 deprecation warning set AZUREML_LOG_DEPRECATION_WARNING_ENABLED to 'False'\n  service = Model.deploy(ws, service_name, [model], inference_config, deployment_config, overwrite=True)\n"
        }
      ],
      "execution_count": 62,
      "metadata": {
        "jupyter": {
          "source_hidden": false,
          "outputs_hidden": false
        },
        "nteract": {
          "transient": {
            "deleting": false
          }
        },
        "gather": {
          "logged": 1699642099461
        }
      }
    },
    {
      "cell_type": "markdown",
      "source": [
        "**Step 4: Test the Web Service**\n",
        "\n",
        "With the service deployed, now you can consume it from a client application."
      ],
      "metadata": {
        "nteract": {
          "transient": {
            "deleting": false
          }
        }
      }
    },
    {
      "cell_type": "code",
      "source": [
        "import json\n",
        "\n",
        "x_new = [[0.0, 139.0, 62.0, 17.0, 210.0, 22.1, 0.207, 21.0], [0.0, 139.0, 62.0, 17.0, 210.0, 22.1, 0.207, 21.0]]\n",
        "\n",
        "# print ('data: {}'.format(x_new[0]))\n",
        "\n",
        "# Convert the array to a serializable list in a JSON document\n",
        "input_json = json.dumps({\"data\": x_new})\n",
        "\n",
        "# laoding Json file\n",
        "# with open('../../data/sample_request.json', 'r') as f:\n",
        "#   input_json = json.load(f)\n",
        "\n",
        "# print(input_json)\n",
        "\n",
        "\n",
        "# Call the web service, passing the input data (the web service will also accept the data in binary format)\n",
        "predictions = service.run(input_data = input_json)\n",
        "predictions\n"
      ],
      "outputs": [
        {
          "output_type": "execute_result",
          "execution_count": 64,
          "data": {
            "text/plain": "[0, 0]"
          },
          "metadata": {}
        }
      ],
      "execution_count": 64,
      "metadata": {
        "jupyter": {
          "source_hidden": false,
          "outputs_hidden": false
        },
        "nteract": {
          "transient": {
            "deleting": false
          }
        },
        "gather": {
          "logged": 1699642130832
        }
      }
    },
    {
      "cell_type": "code",
      "source": [
        "input_json"
      ],
      "outputs": [
        {
          "output_type": "execute_result",
          "execution_count": 65,
          "data": {
            "text/plain": "'{\"data\": [[0.0, 139.0, 62.0, 17.0, 210.0, 22.1, 0.207, 21.0], [0.0, 139.0, 62.0, 17.0, 210.0, 22.1, 0.207, 21.0]]}'"
          },
          "metadata": {}
        }
      ],
      "execution_count": 65,
      "metadata": {
        "jupyter": {
          "source_hidden": false,
          "outputs_hidden": false
        },
        "nteract": {
          "transient": {
            "deleting": false
          }
        },
        "gather": {
          "logged": 1699642150565
        }
      }
    },
    {
      "cell_type": "markdown",
      "source": [
        "\n",
        "You've deployed your web service as an Azure Container Instance (ACI) service that requires no authentication. This is fine for development and testing, but for production you should consider deploying to an Azure Kubernetes Service (AKS) cluster and enabling token-based authentication. This would require REST requests to include an Authorization header."
      ],
      "metadata": {
        "nteract": {
          "transient": {
            "deleting": false
          }
        }
      }
    },
    {
      "cell_type": "markdown",
      "source": [
        "**Step 5: Delete the service**\n",
        "\n",
        "When you no longer need your service, you should delete it to avoid incurring unecessary charges."
      ],
      "metadata": {
        "nteract": {
          "transient": {
            "deleting": false
          }
        }
      }
    },
    {
      "cell_type": "code",
      "source": [
        "service.delete()\n",
        "print ('Service deleted.')"
      ],
      "outputs": [
        {
          "output_type": "stream",
          "name": "stdout",
          "text": "Service deleted.\n"
        }
      ],
      "execution_count": 58,
      "metadata": {
        "jupyter": {
          "source_hidden": false,
          "outputs_hidden": false
        },
        "nteract": {
          "transient": {
            "deleting": false
          }
        },
        "gather": {
          "logged": 1699636585397
        }
      }
    },
    {
      "cell_type": "markdown",
      "source": [
        "**Step 6: Deploy the model as a web service to Azuer Kubernetes Cluster**"
      ],
      "metadata": {
        "nteract": {
          "transient": {
            "deleting": false
          }
        }
      }
    },
    {
      "cell_type": "code",
      "source": [
        "# # provision aks cluster\n",
        "# from azureml.core.compute import ComputeTarget\n",
        "# from azureml.core.compute_target import ComputeTargetException\n",
        "# from azureml.core.compute import AksCompute, ComputeTarget\n",
        "# from azureml.core.webservice import Webservice, AksWebservice\n",
        "\n",
        "# # Choose a name for your AKS cluster\n",
        "# aks_name = 'my-aks-9' \n",
        "\n",
        "# # Verify that cluster does not exist already\n",
        "# try:\n",
        "#     aks_target = ComputeTarget(workspace=ws, name=aks_name)\n",
        "#     print('Found existing cluster, use it.')\n",
        "# except ComputeTargetException:\n",
        "#     # Use the default configuration (can also provide parameters to customize)\n",
        "#     prov_config = AksCompute.provisioning_configuration()\n",
        "\n",
        "#     # Create the cluster\n",
        "#     aks_target = ComputeTarget.create(workspace = ws, \n",
        "#                                     name = aks_name, \n",
        "#                                     provisioning_configuration = prov_config)\n",
        "\n",
        "# if aks_target.get_status() != \"Succeeded\":\n",
        "#     aks_target.wait_for_completion(show_output=True)"
      ],
      "outputs": [],
      "execution_count": 59,
      "metadata": {
        "jupyter": {
          "source_hidden": false,
          "outputs_hidden": false
        },
        "nteract": {
          "transient": {
            "deleting": false
          }
        },
        "gather": {
          "logged": 1699636601590
        }
      }
    },
    {
      "cell_type": "code",
      "source": [
        "# attah the existing cluster if any\n",
        "# resource_id = '/subscriptions/92c76a2f-0e1c-4216-b65e-abf7a3f34c1e/resourcegroups/raymondsdk0604/providers/Microsoft.ContainerService/managedClusters/my-aks-0605d37425356b7d01'\n",
        "\n",
        "# create_name='my-existing-aks' \n",
        "# # Create the cluster\n",
        "# attach_config = AksCompute.attach_configuration(resource_id=resource_id)\n",
        "# aks_target = ComputeTarget.attach(workspace=ws, name=create_name, attach_configuration=attach_config)\n",
        "# # Wait for the operation to complete\n",
        "# aks_target.wait_for_completion(True)"
      ],
      "outputs": [],
      "execution_count": 60,
      "metadata": {
        "jupyter": {
          "source_hidden": false,
          "outputs_hidden": false
        },
        "nteract": {
          "transient": {
            "deleting": false
          }
        },
        "gather": {
          "logged": 1699636612580
        }
      }
    },
    {
      "cell_type": "code",
      "source": [
        "# Deploy webservice to AKS\n",
        "# Set the web service configuration (using default here)\n",
        "# aks_config = AksWebservice.deploy_configuration()\n",
        "\n",
        "# # Enable token auth and disable (key) auth on the webservice\n",
        "# aks_config = AksWebservice.deploy_configuration(token_auth_enabled=True, auth_enabled=False)"
      ],
      "outputs": [],
      "execution_count": null,
      "metadata": {
        "jupyter": {
          "source_hidden": false,
          "outputs_hidden": false
        },
        "nteract": {
          "transient": {
            "deleting": false
          }
        }
      }
    },
    {
      "cell_type": "code",
      "source": [
        "# aks_service_name ='aks-service-1'\n",
        "\n",
        "# aks_service = Model.deploy(workspace=ws,\n",
        "#                            name=aks_service_name,\n",
        "#                            models=[model],\n",
        "#                            inference_config=inf_config,\n",
        "#                            deployment_config=aks_config,\n",
        "#                            deployment_target=aks_target)\n",
        "\n",
        "# aks_service.wait_for_deployment(show_output = True)\n",
        "# print(aks_service.state)"
      ],
      "outputs": [],
      "execution_count": null,
      "metadata": {
        "jupyter": {
          "source_hidden": false,
          "outputs_hidden": false
        },
        "nteract": {
          "transient": {
            "deleting": false
          }
        }
      }
    },
    {
      "cell_type": "code",
      "source": [
        "# Test the Servie\n",
        "# import json\n",
        "\n",
        "# test_sample = json.dumps({'data': [\n",
        "#     [1,2,3,4,5,6,7,8,9,10], \n",
        "#     [10,9,8,7,6,5,4,3,2,1]\n",
        "# ]})\n",
        "# test_sample = bytes(test_sample,encoding = 'utf8')\n",
        "\n",
        "# prediction = aks_service.run(input_data = test_sample)\n",
        "# print(prediction)"
      ],
      "outputs": [],
      "execution_count": null,
      "metadata": {
        "jupyter": {
          "source_hidden": false,
          "outputs_hidden": false
        },
        "nteract": {
          "transient": {
            "deleting": false
          }
        }
      }
    }
  ],
  "metadata": {
    "kernelspec": {
      "name": "python310-sdkv2",
      "language": "python",
      "display_name": "Python 3.10 - SDK v2"
    },
    "language_info": {
      "name": "python",
      "version": "3.10.11",
      "mimetype": "text/x-python",
      "codemirror_mode": {
        "name": "ipython",
        "version": 3
      },
      "pygments_lexer": "ipython3",
      "nbconvert_exporter": "python",
      "file_extension": ".py"
    },
    "microsoft": {
      "ms_spell_check": {
        "ms_spell_check_language": "en"
      },
      "host": {
        "AzureML": {
          "notebookHasBeenCompleted": true
        }
      }
    },
    "kernel_info": {
      "name": "python310-sdkv2"
    },
    "nteract": {
      "version": "nteract-front-end@1.0.0"
    }
  },
  "nbformat": 4,
  "nbformat_minor": 2
}