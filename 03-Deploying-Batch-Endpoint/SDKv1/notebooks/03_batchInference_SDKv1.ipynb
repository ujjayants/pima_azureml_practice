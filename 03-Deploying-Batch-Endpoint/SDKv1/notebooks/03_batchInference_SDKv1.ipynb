{
  "cells": [
    {
      "cell_type": "markdown",
      "source": [
        "#### Deploy the model as Batch Endpoint\n",
        "\n",
        "##### Workflow\n",
        "1. Initialize \n",
        "- Workspace\n",
        "- Environment\n",
        "- Cluster\n",
        "- Experiment\n",
        "2. Get Reference to Input data\n",
        "3. Create a Scoring script\n",
        "4. Create and Submit Pipeline Step\n",
        "5. Download the predictions to local folder (optional)\n",
        "6. Publish the pipeline\n",
        "7. Invoke pipeline endpoint\n"
      ],
      "metadata": {
        "nteract": {
          "transient": {
            "deleting": false
          }
        }
      }
    },
    {
      "cell_type": "markdown",
      "source": [
        "##### Step 1: Initializing Workspace\n",
        "\n",
        "> **Note**: If you haven't already established an authenticated session with your Azure subscription, you'll be prompted to authenticate by clicking a link, entering an authentication code, and signing into Azure."
      ],
      "metadata": {
        "nteract": {
          "transient": {
            "deleting": false
          }
        }
      }
    },
    {
      "cell_type": "code",
      "source": [
        "from azureml.core import Workspace\n",
        "\n",
        "# Initializing Workspace\n",
        "ws = Workspace.from_config()"
      ],
      "outputs": [],
      "execution_count": 1,
      "metadata": {
        "gather": {
          "logged": 1700028010129
        }
      }
    },
    {
      "cell_type": "markdown",
      "source": [
        "##### Create compute"
      ],
      "metadata": {
        "nteract": {
          "transient": {
            "deleting": false
          }
        }
      }
    },
    {
      "cell_type": "code",
      "source": [
        "from azureml.core.compute import ComputeTarget, AmlCompute\n",
        "from azureml.core.compute_target import ComputeTargetException\n",
        "\n",
        "compute = \"ML-Pipeline-Cluster\"\n",
        "\n",
        "try:\n",
        "    # Check for existing compute target\n",
        "    inference_cluster = ComputeTarget(workspace=ws, name=compute)\n",
        "    print('Found existing cluster, use it.')\n",
        "except ComputeTargetException:\n",
        "    # If it doesn't already exist, create it\n",
        "    try:\n",
        "        compute_config = AmlCompute.provisioning_configuration(vm_size='STANDARD_DS11_V2', max_nodes=2)\n",
        "        inference_cluster = ComputeTarget.create(ws, compute, compute_config)\n",
        "        inference_cluster.wait_for_completion(show_output=True)\n",
        "    except Exception as ex:\n",
        "        print(ex)\n",
        "    "
      ],
      "outputs": [
        {
          "output_type": "stream",
          "name": "stdout",
          "text": "Found existing cluster, use it.\n"
        }
      ],
      "execution_count": 2,
      "metadata": {
        "jupyter": {
          "source_hidden": false,
          "outputs_hidden": false
        },
        "nteract": {
          "transient": {
            "deleting": false
          }
        },
        "gather": {
          "logged": 1700028014127
        }
      }
    },
    {
      "cell_type": "markdown",
      "source": [
        "##### Create or Get Environment"
      ],
      "metadata": {
        "nteract": {
          "transient": {
            "deleting": false
          }
        }
      }
    },
    {
      "cell_type": "code",
      "source": [
        "# creating an environment\n",
        "from azureml.core import Environment\n",
        "from azureml.core.runconfig import RunConfiguration\n",
        "\n",
        "# ---- create enviroment using .yaml file\n",
        "env_name= 'ENV-SDKv1'\n",
        "# python_packages = Environment.from_conda_specification(env_name, '../dependencies/conda.yaml')\n",
        "# # register the environment\n",
        "# python_packages.register(workspace=ws)\n",
        "\n",
        "# calling Environment\n",
        "reg_env = Environment.get(ws, env_name)"
      ],
      "outputs": [],
      "execution_count": 3,
      "metadata": {
        "jupyter": {
          "source_hidden": false,
          "outputs_hidden": false
        },
        "nteract": {
          "transient": {
            "deleting": false
          }
        },
        "gather": {
          "logged": 1700028017917
        }
      }
    },
    {
      "cell_type": "markdown",
      "source": [
        "##### Step 2: Get Referrence to Input Data"
      ],
      "metadata": {
        "nteract": {
          "transient": {
            "deleting": false
          }
        }
      }
    },
    {
      "cell_type": "code",
      "source": [
        "from azureml.core import Dataset\n",
        "# ---- Getting Data\n",
        "dataset_name = 'pima_test_typeTabular_SDKv1'\n",
        "# loading data from Dataset\n",
        "df_tb   = Dataset.get_by_name(workspace=ws, name= dataset_name)"
      ],
      "outputs": [],
      "execution_count": 4,
      "metadata": {
        "jupyter": {
          "source_hidden": false,
          "outputs_hidden": false
        },
        "nteract": {
          "transient": {
            "deleting": false
          }
        },
        "gather": {
          "logged": 1700028023137
        }
      }
    },
    {
      "cell_type": "markdown",
      "source": [
        "##### Step 2: Create a Scoring Script\n",
        "The Scoring script must contain a **init()** & **run(mini_batch)** function\n",
        "- **run(mini_batch)**: The function will run for each mini_batch instance.\n",
        "- **mini_batch**: ParallelRunStep will invoke run method and pass either a list or pandas DataFrame as an argument to the method. Each entry in mini_batch will be a **file path** if input is a **FileDataset** or a **pandas DataFrame** if input is a **TabularDataset**\n"
      ],
      "metadata": {
        "nteract": {
          "transient": {
            "deleting": false
          }
        }
      }
    },
    {
      "cell_type": "markdown",
      "source": [
        "\n",
        "##### Step 3: Create a pipeline for batch inferencing\n",
        "You're going to use a pipeline to run the batch prediction script, generate predictions from the input data, and save the results as a text file in the output folder. To do this, you can use a **ParallelRunStep**, which enables the batch data to be processed in parallel and the results collated in a single output file named *parallel_run_step.txt*.\n",
        "\n",
        "**Important**: For more details on Batch Inferencing & scoring script, [click here](https://learn.microsoft.com/en-us/azure/machine-learning/how-to-debug-parallel-run-step?view=azureml-api-1#testing-scripts-locally)"
      ],
      "metadata": {
        "nteract": {
          "transient": {
            "deleting": false
          }
        }
      }
    },
    {
      "cell_type": "code",
      "source": [
        "from azureml.pipeline.steps import ParallelRunConfig, ParallelRunStep\n",
        "from azureml.data import OutputFileDatasetConfig\n",
        "\n",
        "output_dir = OutputFileDatasetConfig(name='Pima_BatchEndpoint_Output')\n",
        "\n",
        "parallel_run_config = ParallelRunConfig(\n",
        "    source_directory='../src',\n",
        "    entry_script=\"pima_scoreBatchEndpoint_SDKv1.py\",\n",
        "    mini_batch_size='10MB',\n",
        "    error_threshold=-1,\n",
        "    output_action=\"append_row\",\n",
        "    environment= reg_env,\n",
        "    compute_target=compute,\n",
        "    node_count=2\n",
        "    )\n",
        "\n",
        "parallelrun_step = ParallelRunStep(\n",
        "    name='pima-batch-endpoint-SDKv1',\n",
        "    parallel_run_config=parallel_run_config,\n",
        "    inputs=[df_tb.as_named_input('pima_batch_data')],\n",
        "    output=output_dir,\n",
        "    # arguments=[],\n",
        "    allow_reuse=False\n",
        ")\n",
        "\n",
        "print('Steps defined')"
      ],
      "outputs": [
        {
          "output_type": "stream",
          "name": "stdout",
          "text": "Steps defined\n"
        },
        {
          "output_type": "stream",
          "name": "stderr",
          "text": "/anaconda/envs/azureml_py38/lib/python3.8/site-packages/azureml/pipeline/core/_parallel_run_step_base.py:580: UserWarning: \nParallelRunStep requires azureml-dataset-runtime[fuse,pandas] for tabular dataset.\nPlease add relevant package in CondaDependencies.\n  warnings.warn(\n"
        }
      ],
      "execution_count": 11,
      "metadata": {
        "jupyter": {
          "source_hidden": false,
          "outputs_hidden": false
        },
        "nteract": {
          "transient": {
            "deleting": false
          }
        },
        "gather": {
          "logged": 1700029586977
        }
      }
    },
    {
      "cell_type": "markdown",
      "source": [
        "put the parallelrun_step into a pipeline, and run it.\n"
      ],
      "metadata": {
        "nteract": {
          "transient": {
            "deleting": false
          }
        }
      }
    },
    {
      "cell_type": "code",
      "source": [
        "from azureml.core import Experiment\n",
        "from azureml.pipeline.core import Pipeline\n",
        "\n",
        "pipeline = Pipeline(workspace=ws, steps=[parallelrun_step])\n",
        "pipeline_run = Experiment(ws, 'Pima_Batch_Experiments_Training_SDK_v1').submit(pipeline)"
      ],
      "outputs": [
        {
          "output_type": "stream",
          "name": "stdout",
          "text": "Created step pima-batch-endpoint-SDKv1 [789e22a7][3bfbf99a-538f-4326-ace1-ed233ceb1e92], (This step will run and generate new outputs)\nSubmitted PipelineRun 06156615-a938-4ee8-ab50-4ac08bc70e75\nLink to Azure Machine Learning Portal: https://ml.azure.com/runs/06156615-a938-4ee8-ab50-4ac08bc70e75?wsid=/subscriptions/ba5d6a04-af22-45ea-bc5a-946ef1c32949/resourcegroups/us_azure_practice/workspaces/us_azure&tid=5ac231ff-07da-46e9-9b1d-c924625f23bd\n"
        }
      ],
      "execution_count": 12,
      "metadata": {
        "jupyter": {
          "source_hidden": false,
          "outputs_hidden": false
        },
        "nteract": {
          "transient": {
            "deleting": false
          }
        },
        "gather": {
          "logged": 1700029592824
        }
      }
    },
    {
      "cell_type": "markdown",
      "source": [
        "##### Step 5: Download  predictions to local Folder (Optional)\n",
        "When the pipeline has finished running, the resulting predictions will have been saved in the outputs of the experiment associated with the first (and only) step in the pipeline. You can retrieve it as follows:"
      ],
      "metadata": {
        "nteract": {
          "transient": {
            "deleting": false
          }
        }
      }
    },
    {
      "cell_type": "code",
      "source": [
        "import pandas as pd\n",
        "import os\n",
        "\n",
        "# Get the run for the first step and download its output\n",
        "prediction_run = next(pipeline_run.get_children())\n",
        "prediction_output = prediction_run.get_output_data('Pima_BatchEndpoint_Output')\n",
        "prediction_output.download(local_path='../batchprediction_output')\n",
        "\n",
        "# Traverse the folder hierarchy and find the results file\n",
        "for root, dirs, files in os.walk('../batchprediction_output'):\n",
        "    for file in files:\n",
        "        if file.endswith('parallel_run_step.txt'):\n",
        "            result_file = os.path.join(root,file)\n",
        "\n",
        "# cleanup output format\n",
        "df = pd.read_csv(result_file, delimiter=\" \", header=None)\n",
        "\n",
        "# add column namesto dataframe\n",
        "df_main = df_tb.to_pandas_dataframe()\n",
        "#df_main.drop(['Time','Amount','Class'], axis=1, inplace=True)\n",
        "df_col   = df_main.columns.tolist()\n",
        "pred_col = ['Prediction']\n",
        "\n",
        "# Display the first 20 results\n",
        "df.columns = df_col + pred_col\n",
        "df.head(20)"
      ],
      "outputs": [
        {
          "output_type": "execute_result",
          "execution_count": 13,
          "data": {
            "text/plain": "    Number of times pregnant  \\\n0                          6   \n1                          1   \n2                          8   \n3                          1   \n4                          0   \n5                          5   \n6                          3   \n7                         10   \n8                          2   \n9                          8   \n10                         4   \n11                        10   \n12                        10   \n13                         1   \n14                         5   \n15                         7   \n16                         0   \n17                         7   \n18                         1   \n19                         1   \n\n    Plasma glucose concentration a 2 hours in an oral glucose tolerance test  \\\n0                                                 148                          \n1                                                  85                          \n2                                                 183                          \n3                                                  89                          \n4                                                 137                          \n5                                                 116                          \n6                                                  78                          \n7                                                 115                          \n8                                                 197                          \n9                                                 125                          \n10                                                110                          \n11                                                168                          \n12                                                139                          \n13                                                189                          \n14                                                166                          \n15                                                100                          \n16                                                118                          \n17                                                107                          \n18                                                103                          \n19                                                115                          \n\n    Diastolic blood pressure (mm Hg)  Triceps skin fold thickness (mm)  \\\n0                                 72                                35   \n1                                 66                                29   \n2                                 64                                 0   \n3                                 66                                23   \n4                                 40                                35   \n5                                 74                                 0   \n6                                 50                                32   \n7                                  0                                 0   \n8                                 70                                45   \n9                                 96                                 0   \n10                                92                                 0   \n11                                74                                 0   \n12                                80                                 0   \n13                                60                                23   \n14                                72                                19   \n15                                 0                                 0   \n16                                84                                47   \n17                                74                                 0   \n18                                30                                38   \n19                                70                                30   \n\n    2-Hour serum insulin (mu U/ml)  \\\n0                                0   \n1                                0   \n2                                0   \n3                               94   \n4                              168   \n5                                0   \n6                               88   \n7                                0   \n8                              543   \n9                                0   \n10                               0   \n11                               0   \n12                               0   \n13                             846   \n14                             175   \n15                               0   \n16                             230   \n17                               0   \n18                              83   \n19                              96   \n\n    Body mass index (weight in kg/(height in m)^2)  \\\n0                                             33.6   \n1                                             26.6   \n2                                             23.3   \n3                                             28.1   \n4                                             43.1   \n5                                             25.6   \n6                                             31.0   \n7                                             35.3   \n8                                             30.5   \n9                                              0.0   \n10                                            37.6   \n11                                            38.0   \n12                                            27.1   \n13                                            30.1   \n14                                            25.8   \n15                                            30.0   \n16                                            45.8   \n17                                            29.6   \n18                                            43.3   \n19                                            34.6   \n\n    Diabetes pedigree function  Age (years)  Prediction  \n0                        0.627           50           1  \n1                        0.351           31           0  \n2                        0.672           32           0  \n3                        0.167           21           0  \n4                        2.288           33           1  \n5                        0.201           30           0  \n6                        0.248           26           0  \n7                        0.134           29           0  \n8                        0.158           53           1  \n9                        0.232           54           0  \n10                       0.191           30           0  \n11                       0.537           34           1  \n12                       1.441           57           1  \n13                       0.398           59           1  \n14                       0.587           51           1  \n15                       0.484           32           0  \n16                       0.551           31           1  \n17                       0.254           31           0  \n18                       0.183           33           0  \n19                       0.529           32           1  ",
            "text/html": "<div>\n<style scoped>\n    .dataframe tbody tr th:only-of-type {\n        vertical-align: middle;\n    }\n\n    .dataframe tbody tr th {\n        vertical-align: top;\n    }\n\n    .dataframe thead th {\n        text-align: right;\n    }\n</style>\n<table border=\"1\" class=\"dataframe\">\n  <thead>\n    <tr style=\"text-align: right;\">\n      <th></th>\n      <th>Number of times pregnant</th>\n      <th>Plasma glucose concentration a 2 hours in an oral glucose tolerance test</th>\n      <th>Diastolic blood pressure (mm Hg)</th>\n      <th>Triceps skin fold thickness (mm)</th>\n      <th>2-Hour serum insulin (mu U/ml)</th>\n      <th>Body mass index (weight in kg/(height in m)^2)</th>\n      <th>Diabetes pedigree function</th>\n      <th>Age (years)</th>\n      <th>Prediction</th>\n    </tr>\n  </thead>\n  <tbody>\n    <tr>\n      <th>0</th>\n      <td>6</td>\n      <td>148</td>\n      <td>72</td>\n      <td>35</td>\n      <td>0</td>\n      <td>33.6</td>\n      <td>0.627</td>\n      <td>50</td>\n      <td>1</td>\n    </tr>\n    <tr>\n      <th>1</th>\n      <td>1</td>\n      <td>85</td>\n      <td>66</td>\n      <td>29</td>\n      <td>0</td>\n      <td>26.6</td>\n      <td>0.351</td>\n      <td>31</td>\n      <td>0</td>\n    </tr>\n    <tr>\n      <th>2</th>\n      <td>8</td>\n      <td>183</td>\n      <td>64</td>\n      <td>0</td>\n      <td>0</td>\n      <td>23.3</td>\n      <td>0.672</td>\n      <td>32</td>\n      <td>0</td>\n    </tr>\n    <tr>\n      <th>3</th>\n      <td>1</td>\n      <td>89</td>\n      <td>66</td>\n      <td>23</td>\n      <td>94</td>\n      <td>28.1</td>\n      <td>0.167</td>\n      <td>21</td>\n      <td>0</td>\n    </tr>\n    <tr>\n      <th>4</th>\n      <td>0</td>\n      <td>137</td>\n      <td>40</td>\n      <td>35</td>\n      <td>168</td>\n      <td>43.1</td>\n      <td>2.288</td>\n      <td>33</td>\n      <td>1</td>\n    </tr>\n    <tr>\n      <th>5</th>\n      <td>5</td>\n      <td>116</td>\n      <td>74</td>\n      <td>0</td>\n      <td>0</td>\n      <td>25.6</td>\n      <td>0.201</td>\n      <td>30</td>\n      <td>0</td>\n    </tr>\n    <tr>\n      <th>6</th>\n      <td>3</td>\n      <td>78</td>\n      <td>50</td>\n      <td>32</td>\n      <td>88</td>\n      <td>31.0</td>\n      <td>0.248</td>\n      <td>26</td>\n      <td>0</td>\n    </tr>\n    <tr>\n      <th>7</th>\n      <td>10</td>\n      <td>115</td>\n      <td>0</td>\n      <td>0</td>\n      <td>0</td>\n      <td>35.3</td>\n      <td>0.134</td>\n      <td>29</td>\n      <td>0</td>\n    </tr>\n    <tr>\n      <th>8</th>\n      <td>2</td>\n      <td>197</td>\n      <td>70</td>\n      <td>45</td>\n      <td>543</td>\n      <td>30.5</td>\n      <td>0.158</td>\n      <td>53</td>\n      <td>1</td>\n    </tr>\n    <tr>\n      <th>9</th>\n      <td>8</td>\n      <td>125</td>\n      <td>96</td>\n      <td>0</td>\n      <td>0</td>\n      <td>0.0</td>\n      <td>0.232</td>\n      <td>54</td>\n      <td>0</td>\n    </tr>\n    <tr>\n      <th>10</th>\n      <td>4</td>\n      <td>110</td>\n      <td>92</td>\n      <td>0</td>\n      <td>0</td>\n      <td>37.6</td>\n      <td>0.191</td>\n      <td>30</td>\n      <td>0</td>\n    </tr>\n    <tr>\n      <th>11</th>\n      <td>10</td>\n      <td>168</td>\n      <td>74</td>\n      <td>0</td>\n      <td>0</td>\n      <td>38.0</td>\n      <td>0.537</td>\n      <td>34</td>\n      <td>1</td>\n    </tr>\n    <tr>\n      <th>12</th>\n      <td>10</td>\n      <td>139</td>\n      <td>80</td>\n      <td>0</td>\n      <td>0</td>\n      <td>27.1</td>\n      <td>1.441</td>\n      <td>57</td>\n      <td>1</td>\n    </tr>\n    <tr>\n      <th>13</th>\n      <td>1</td>\n      <td>189</td>\n      <td>60</td>\n      <td>23</td>\n      <td>846</td>\n      <td>30.1</td>\n      <td>0.398</td>\n      <td>59</td>\n      <td>1</td>\n    </tr>\n    <tr>\n      <th>14</th>\n      <td>5</td>\n      <td>166</td>\n      <td>72</td>\n      <td>19</td>\n      <td>175</td>\n      <td>25.8</td>\n      <td>0.587</td>\n      <td>51</td>\n      <td>1</td>\n    </tr>\n    <tr>\n      <th>15</th>\n      <td>7</td>\n      <td>100</td>\n      <td>0</td>\n      <td>0</td>\n      <td>0</td>\n      <td>30.0</td>\n      <td>0.484</td>\n      <td>32</td>\n      <td>0</td>\n    </tr>\n    <tr>\n      <th>16</th>\n      <td>0</td>\n      <td>118</td>\n      <td>84</td>\n      <td>47</td>\n      <td>230</td>\n      <td>45.8</td>\n      <td>0.551</td>\n      <td>31</td>\n      <td>1</td>\n    </tr>\n    <tr>\n      <th>17</th>\n      <td>7</td>\n      <td>107</td>\n      <td>74</td>\n      <td>0</td>\n      <td>0</td>\n      <td>29.6</td>\n      <td>0.254</td>\n      <td>31</td>\n      <td>0</td>\n    </tr>\n    <tr>\n      <th>18</th>\n      <td>1</td>\n      <td>103</td>\n      <td>30</td>\n      <td>38</td>\n      <td>83</td>\n      <td>43.3</td>\n      <td>0.183</td>\n      <td>33</td>\n      <td>0</td>\n    </tr>\n    <tr>\n      <th>19</th>\n      <td>1</td>\n      <td>115</td>\n      <td>70</td>\n      <td>30</td>\n      <td>96</td>\n      <td>34.6</td>\n      <td>0.529</td>\n      <td>32</td>\n      <td>1</td>\n    </tr>\n  </tbody>\n</table>\n</div>"
          },
          "metadata": {}
        }
      ],
      "execution_count": 13,
      "metadata": {
        "jupyter": {
          "source_hidden": false,
          "outputs_hidden": false
        },
        "nteract": {
          "transient": {
            "deleting": false
          }
        },
        "gather": {
          "logged": 1700030121897
        }
      }
    },
    {
      "cell_type": "markdown",
      "source": [
        "##### Step 6: Publish the Pipeline\n",
        "\n",
        "Now that you have a working pipeline for batch inferencing, you can publish it and use a REST endpoint to run it from an application."
      ],
      "metadata": {
        "nteract": {
          "transient": {
            "deleting": false
          }
        }
      }
    },
    {
      "cell_type": "code",
      "source": [
        "published_pipeline = pipeline_run.publish_pipeline(name='pima_pipelineEndpoint_BatchPrediction_SDKv1', description='Batch scoring of diabetes data', version='1.0')\n",
        "# Get pipeline endpoint\n",
        "rest_endpoint = published_pipeline.endpoint\n",
        "print(rest_endpoint)"
      ],
      "outputs": [
        {
          "output_type": "stream",
          "name": "stdout",
          "text": "https://centralindia.api.azureml.ms/pipelines/v1.0/subscriptions/ba5d6a04-af22-45ea-bc5a-946ef1c32949/resourceGroups/us_azure_practice/providers/Microsoft.MachineLearningServices/workspaces/us_azure/PipelineRuns/PipelineSubmit/e3e13aa1-fffc-4d23-b060-3cc60edf4806\n"
        }
      ],
      "execution_count": 14,
      "metadata": {
        "jupyter": {
          "source_hidden": false,
          "outputs_hidden": false
        },
        "nteract": {
          "transient": {
            "deleting": false
          }
        },
        "gather": {
          "logged": 1700030133073
        }
      }
    },
    {
      "cell_type": "markdown",
      "source": [
        "##### Step 7: Invoke the pipeline endpoint"
      ],
      "metadata": {
        "nteract": {
          "transient": {
            "deleting": false
          }
        }
      }
    },
    {
      "cell_type": "code",
      "source": [
        "from azureml.core.authentication import InteractiveLoginAuthentication\n",
        "import requests\n",
        "\n",
        "# Authenticate\n",
        "interactive_auth = InteractiveLoginAuthentication()\n",
        "auth_header = interactive_auth.get_authentication_header()\n",
        "print('Authentication header ready.')\n",
        "\n",
        "\n",
        "# Invoke\n",
        "rest_endpoint = published_pipeline.endpoint\n",
        "response = requests.post(rest_endpoint, \n",
        "                         headers=auth_header, \n",
        "                         json={\"ExperimentName\": \"Pima_Batch_Experiments_Training_SDK_v1\"})\n",
        "run_id = response.json()[\"Id\"]\n",
        "run_id"
      ],
      "outputs": [],
      "execution_count": null,
      "metadata": {
        "jupyter": {
          "source_hidden": false,
          "outputs_hidden": false
        },
        "nteract": {
          "transient": {
            "deleting": false
          }
        }
      }
    }
  ],
  "metadata": {
    "kernelspec": {
      "name": "python38-azureml",
      "language": "python",
      "display_name": "Python 3.8 - AzureML"
    },
    "language_info": {
      "name": "python",
      "version": "3.8.5",
      "mimetype": "text/x-python",
      "codemirror_mode": {
        "name": "ipython",
        "version": 3
      },
      "pygments_lexer": "ipython3",
      "nbconvert_exporter": "python",
      "file_extension": ".py"
    },
    "microsoft": {
      "ms_spell_check": {
        "ms_spell_check_language": "en"
      }
    },
    "nteract": {
      "version": "nteract-front-end@1.0.0"
    },
    "kernel_info": {
      "name": "python38-azureml"
    }
  },
  "nbformat": 4,
  "nbformat_minor": 2
}