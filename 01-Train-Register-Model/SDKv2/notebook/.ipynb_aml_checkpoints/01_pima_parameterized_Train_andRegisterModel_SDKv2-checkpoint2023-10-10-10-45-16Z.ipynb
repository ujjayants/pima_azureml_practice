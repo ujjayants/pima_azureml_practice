{
  "cells": [
    {
      "cell_type": "markdown",
      "source": [
        "Workflow\n",
        "\n",
        "\n",
        "1. Initialize Workspace & create workspace handle\n",
        "2. Initialize\n",
        "    - compute Cluster\n",
        "    - Environment\n",
        "3. Fetch Input Data\n",
        "4. Create a .py script to Train & Register Model\n",
        "5. Configure & Submit Command Job"
      ],
      "metadata": {
        "nteract": {
          "transient": {
            "deleting": false
          }
        }
      }
    },
    {
      "cell_type": "markdown",
      "source": [
        "Step 1: Initializing Workspace and creating Workspace handle"
      ],
      "metadata": {
        "nteract": {
          "transient": {
            "deleting": false
          }
        }
      }
    },
    {
      "cell_type": "code",
      "source": [
        "from azureml.core import Workspace\n",
        "from azure.ai.ml import MLClient\n",
        "from azure.identity import DefaultAzureCredential\n",
        "\n",
        "# Initialize  workspace\n",
        "ws = Workspace.from_config()  \n",
        "\n",
        "# Get a handle to the workspace\n",
        "credential = DefaultAzureCredential()  # authenticate\n",
        "ml_client = MLClient( credential=credential,\n",
        "                      subscription_id=ws.subscription_id,\n",
        "                      resource_group_name=ws.resource_group,\n",
        "                      workspace_name=ws.name,\n",
        "                    )\n"
      ],
      "outputs": [],
      "execution_count": 1,
      "metadata": {
        "gather": {
          "logged": 1699610902006
        }
      }
    },
    {
      "cell_type": "markdown",
      "source": [
        "Step 2: Initializing Compute Cluster & Environment"
      ],
      "metadata": {
        "nteract": {
          "transient": {
            "deleting": false
          }
        }
      }
    },
    {
      "cell_type": "code",
      "source": [
        "from azure.ai.ml.entities import AmlCompute\n",
        "\n",
        "# Name assigned to the compute cluster\n",
        "compute = \"ML-Pipeline-Cluster\"\n",
        "\n",
        "try:\n",
        "    # let's see if the compute target already exists\n",
        "    cpu_cluster = ml_client.compute.get(compute)\n",
        "    print(f\"You already have a cluster named {compute}, we'll reuse it as is.\")\n",
        "\n",
        "except Exception:\n",
        "    print(\"Creating a new cpu compute target...\")\n",
        "    cpu_cluster = AmlCompute(\n",
        "        name=compute,\n",
        "        type=\"amlcompute\",\n",
        "        size=\"STANDARD_DS3_V2\",\n",
        "        min_instances=0,\n",
        "        max_instances=4,\n",
        "        idle_time_before_scale_down=300,\n",
        "        tier=\"Dedicated\",\n",
        "    )\n",
        "    print(f\"AMLCompute with name {cpu_cluster.name} will be created, with compute size {cpu_cluster.size}\")\n",
        "    \n",
        "    # Now, we pass the object to MLClient's create_or_update method\n",
        "    cpu_cluster = ml_client.compute.begin_create_or_update(cpu_cluster)"
      ],
      "outputs": [
        {
          "output_type": "stream",
          "name": "stdout",
          "text": "You already have a cluster named ML-Pipeline-Cluster, we'll reuse it as is.\n"
        }
      ],
      "execution_count": 2,
      "metadata": {
        "jupyter": {
          "source_hidden": false,
          "outputs_hidden": false
        },
        "nteract": {
          "transient": {
            "deleting": false
          }
        },
        "gather": {
          "logged": 1699610903073
        }
      }
    },
    {
      "cell_type": "code",
      "source": [
        "import os\n",
        "from azure.ai.ml.entities import Environment\n",
        "\n",
        "custom_env_name  = \"ENV-SDKv2\"\n",
        "dependencies_dir = '../dependencies'\n",
        "env = Environment( name=custom_env_name,\n",
        "                   description=\"Evironment for python SDKv2 Execution\",\n",
        "                   conda_file=os.path.join(dependencies_dir, \"conda.yaml\"),\n",
        "                   image=\"mcr.microsoft.com/azureml/openmpi4.1.0-ubuntu20.04:latest\",\n",
        "                 )\n",
        "env = ml_client.environments.create_or_update(env)\n",
        "\n",
        "# GET ENVIRONMENT\n",
        "# use 'label' parameter to get latest environment for example label='latest'\n",
        "# use 'version' parameter to get specific version environment, for example version=2\n",
        "env = ml_client.environments.get(name=custom_env_name, label='latest') \n",
        "\n",
        "print(f\"Environment with name {env.name} is registered to workspace, the environment version is {env.version}\")"
      ],
      "outputs": [
        {
          "output_type": "stream",
          "name": "stdout",
          "text": "Environment with name ENV-SDKv2 is registered to workspace, the environment version is 4\n"
        }
      ],
      "execution_count": 3,
      "metadata": {
        "jupyter": {
          "source_hidden": false,
          "outputs_hidden": false
        },
        "nteract": {
          "transient": {
            "deleting": false
          }
        },
        "gather": {
          "logged": 1699610907196
        }
      }
    },
    {
      "cell_type": "markdown",
      "source": [
        "Step 3: Fetch Input Data"
      ],
      "metadata": {
        "nteract": {
          "transient": {
            "deleting": false
          }
        }
      }
    },
    {
      "cell_type": "code",
      "source": [
        "# Fetch Data\n",
        "dataset_name = \"pima-sdk-v2\"\n",
        "pima_data  = ml_client.data.get(name = dataset_name, label = \"latest\")\n"
      ],
      "outputs": [],
      "execution_count": 4,
      "metadata": {
        "jupyter": {
          "source_hidden": false,
          "outputs_hidden": false
        },
        "nteract": {
          "transient": {
            "deleting": false
          }
        },
        "gather": {
          "logged": 1699610907530
        }
      }
    },
    {
      "cell_type": "markdown",
      "source": [
        "\n",
        "Step 4: Create .py Script for Training & Registering Model\n",
        "\n",
        "\n",
        "Create .py Script with arguments for Training & Registering Model and save it in 'src folder'. we'll use this script in our next step to pass it as an argument to the command job"
      ],
      "metadata": {
        "nteract": {
          "transient": {
            "deleting": false
          }
        }
      }
    },
    {
      "cell_type": "markdown",
      "source": [
        "Step 5: Configure Command Job\n",
        "\n",
        "**What is a command job?**\n",
        "\n",
        "You'll create an Azure ML command job to train a model for credit default prediction. The command job is used to run a training script in a specified environment. You've already created the environment. Next you'll create the training script.\n",
        "\n",
        "The training script handles the data preparation, training and registering of the trained model. In this tutorial, you'll create a Python training script.\n",
        "\n",
        "Command jobs can be run from CLI, Python SDK, or studio interface. In this tutorial, you'll use the Azure ML Python SDK v2 to create and run the command job.\n",
        "\n",
        "After running the training job, you'll able to deploy the model, then use it to produce a prediction.\n",
        "\n",
        "**Configure the command** Now that you have a script that can perform the desired tasks, you'll use the general purpose **command** that can run command line actions. This command line action can be directly calling system commands or by running a script.\n",
        "\n",
        "Here, you'll create input variables to specify the input data, split ratio, learning rate and registered model name. The command script will:\n",
        "\n",
        " - Use the environment created earlier - you can use the @latest notation to indicate the latest version of the environment when the command is run.\n",
        "- Configure some metadata like display name, experiment name etc. An experiment is a container for all the iterations you do on a certain project. All the jobs submitted under the same experiment name would be listed next to each other in Azure ML studio.\n",
        "\n",
        "- Configure the command line action itself - python main.py in this case. The inputs/outputs are accessible in the command via the ${{ ... }} notation.\n",
        "\n",
        "- In this sample, we access the data from a file on the internet.\n",
        "\n",
        "**access data in command Job** link"
      ],
      "metadata": {
        "nteract": {
          "transient": {
            "deleting": false
          }
        }
      }
    },
    {
      "cell_type": "code",
      "source": [
        "from azure.ai.ml import command\n",
        "from azure.ai.ml import Input, Output\n",
        "\n",
        "\n",
        "# Give Model name\n",
        "model_name = \"pima_model_SDKv2_01\"\n",
        "\n",
        "# configure job command\n",
        "job = command(\n",
        "    inputs=dict(data=Input(type= pima_data.type,\n",
        "                path=f'azureml:{pima_data.name}:{pima_data.version}'),\n",
        "                split_ratio=0.3,\n",
        "                model_name = model_name),\n",
        "    outputs=dict(model=Output(type=\"uri_folder\", mode=\"rw_mount\")),\n",
        "    code=\"../src/\",  # location of source code\n",
        "    command=\"python train_SDKv2.py \\\n",
        "             --input_data ${{inputs.data}}  \\\n",
        "             --train_test_ratio ${{inputs.split_ratio}} \\\n",
        "             --registered_model_name ${{inputs.model_name}} \\\n",
        "             --model ${{outputs.model}}\",\n",
        "    environment=env,\n",
        "    experiment_name=\"Pima_Experiments_Training_SDK_v2\",\n",
        "    compute=compute,\n",
        "    display_name=\"pima_diabetes_sdkv2_prediction\",\n",
        ")"
      ],
      "outputs": [],
      "execution_count": 9,
      "metadata": {
        "jupyter": {
          "source_hidden": false,
          "outputs_hidden": false
        },
        "nteract": {
          "transient": {
            "deleting": false
          }
        },
        "gather": {
          "logged": 1699612710134
        }
      }
    },
    {
      "cell_type": "markdown",
      "source": [
        "Submit the job\n",
        "\n",
        "It's now time to submit the job to run in AzureML. This time you'll use create_or_update on ml_client.jobs.\n",
        "\n",
        "[stable vs experimental](https://learn.microsoft.com/en-us/python/api/overview/azure/ml/?view=azure-ml-py) classes"
      ],
      "metadata": {
        "nteract": {
          "transient": {
            "deleting": false
          }
        }
      }
    },
    {
      "cell_type": "code",
      "source": [
        "ml_client.create_or_update(job)"
      ],
      "outputs": [
        {
          "output_type": "stream",
          "name": "stderr",
          "text": "Warning: the provided asset name 'ENV-SDKv2' will not be used for anonymous registration\nWarning: the provided asset name 'ENV-SDKv2' will not be used for anonymous registration\n\u001b[32mUploading src (0.01 MBs): 100%|██████████| 10655/10655 [00:00<00:00, 178783.41it/s]\n\u001b[39m\n\n"
        },
        {
          "output_type": "execute_result",
          "execution_count": 10,
          "data": {
            "text/plain": "Command({'parameters': {}, 'init': False, 'name': 'serene_chicken_v07pzg919l', 'type': 'command', 'status': 'Starting', 'log_files': None, 'description': None, 'tags': {}, 'properties': {'_azureml.ComputeTargetType': 'amlctrain', 'ContentSnapshotId': '59ada5db-4bd1-480d-9c90-9b2907876a92'}, 'print_as_yaml': True, 'id': '/subscriptions/ba5d6a04-af22-45ea-bc5a-946ef1c32949/resourceGroups/us_azure_practice/providers/Microsoft.MachineLearningServices/workspaces/us_azure/jobs/serene_chicken_v07pzg919l', 'Resource__source_path': None, 'base_path': '/mnt/batch/tasks/shared/LS_root/mounts/clusters/instancenotebook/code/Users/uj_az/PIMA- OnlineEndpoint/01-Train-Register-Model/SDKv2/notebook', 'creation_context': <azure.ai.ml.entities._system_data.SystemData object at 0x7fa5993c3850>, 'serialize': <msrest.serialization.Serializer object at 0x7fa5993c35b0>, 'allowed_keys': {}, 'key_restriction': False, 'logger': <Logger attr_dict (WARNING)>, 'display_name': 'pima_diabetes_sdkv2_prediction', 'experiment_name': 'Pima_Experiments_Training_SDK_v2', 'compute': 'ML-Pipeline-Cluster', 'services': {'Tracking': {'endpoint': 'azureml://centralindia.api.azureml.ms/mlflow/v1.0/subscriptions/ba5d6a04-af22-45ea-bc5a-946ef1c32949/resourceGroups/us_azure_practice/providers/Microsoft.MachineLearningServices/workspaces/us_azure?', 'type': 'Tracking'}, 'Studio': {'endpoint': 'https://ml.azure.com/runs/serene_chicken_v07pzg919l?wsid=/subscriptions/ba5d6a04-af22-45ea-bc5a-946ef1c32949/resourcegroups/us_azure_practice/workspaces/us_azure&tid=5ac231ff-07da-46e9-9b1d-c924625f23bd', 'type': 'Studio'}}, 'comment': None, 'job_inputs': {'data': {'type': 'uri_file', 'path': 'pima-sdk-v2:1', 'mode': 'ro_mount'}, 'split_ratio': '0.3', 'model_name': 'pima_model_SDKv2_01'}, 'job_outputs': {'model': {'type': 'uri_folder', 'mode': 'rw_mount'}, 'default': {'type': 'uri_folder', 'path': 'azureml://datastores/workspaceartifactstore/ExperimentRun/dcid.serene_chicken_v07pzg919l', 'mode': 'rw_mount'}}, 'inputs': {'data': <azure.ai.ml.entities._job.pipeline._io.base.NodeInput object at 0x7fa5993c3d30>, 'split_ratio': <azure.ai.ml.entities._job.pipeline._io.base.NodeInput object at 0x7fa5993c3eb0>, 'model_name': <azure.ai.ml.entities._job.pipeline._io.base.NodeInput object at 0x7fa5993c3550>}, 'outputs': {'model': <azure.ai.ml.entities._job.pipeline._io.base.NodeOutput object at 0x7fa5993c2350>, 'default': <azure.ai.ml.entities._job.pipeline._io.base.NodeOutput object at 0x7fa5993c3e50>}, 'component': CommandComponent({'intellectual_property': None, 'auto_increment_version': True, 'source': 'REMOTE.WORKSPACE.JOB', 'is_anonymous': False, 'auto_delete_setting': None, 'name': 'serene_chicken_v07pzg919l', 'description': None, 'tags': {}, 'properties': {}, 'print_as_yaml': True, 'id': None, 'Resource__source_path': None, 'base_path': PosixPath('.'), 'creation_context': <azure.ai.ml.entities._system_data.SystemData object at 0x7fa5993c3850>, 'serialize': <msrest.serialization.Serializer object at 0x7fa5993c3bb0>, 'command': 'python train_SDKv2.py              --input_data ${{inputs.data}}               --train_test_ratio ${{inputs.split_ratio}}              --registered_model_name ${{inputs.model_name}}              --model ${{outputs.model}}', 'code': '/subscriptions/ba5d6a04-af22-45ea-bc5a-946ef1c32949/resourceGroups/us_azure_practice/providers/Microsoft.MachineLearningServices/workspaces/us_azure/codes/86f9d19b-5b2a-4dfa-87b1-186ac67b2be7/versions/1', 'environment_variables': {}, 'environment': '/subscriptions/ba5d6a04-af22-45ea-bc5a-946ef1c32949/resourceGroups/us_azure_practice/providers/Microsoft.MachineLearningServices/workspaces/us_azure/environments/ENV-SDKv2/versions/4', 'distribution': None, 'resources': None, 'queue_settings': None, 'version': None, 'latest_version': None, 'schema': None, 'type': 'command', 'display_name': 'pima_diabetes_sdkv2_prediction', 'is_deterministic': True, 'inputs': {'data': {'type': 'uri_file', 'path': '/subscriptions/ba5d6a04-af22-45ea-bc5a-946ef1c32949/resourceGroups/us_azure_practice/providers/Microsoft.MachineLearningServices/workspaces/us_azure/data/pima-sdk-v2/versions/1', 'mode': 'ro_mount'}, 'split_ratio': {'type': 'string', 'default': '0.3'}, 'model_name': {'type': 'string', 'default': 'pima_model_SDKv2_01'}}, 'outputs': {'model': {'type': 'uri_folder', 'mode': 'rw_mount'}, 'default': {'type': 'uri_folder', 'path': 'azureml://datastores/workspaceartifactstore/ExperimentRun/dcid.serene_chicken_v07pzg919l', 'mode': 'rw_mount'}}, 'yaml_str': None, 'other_parameter': {'status': 'Starting', 'parameters': {}}, 'additional_includes': [], 'CommandComponent__additional_includes_obj': None}), 'referenced_control_flow_node_instance_id': None, 'kwargs': {'services': {'Tracking': {'endpoint': 'azureml://centralindia.api.azureml.ms/mlflow/v1.0/subscriptions/ba5d6a04-af22-45ea-bc5a-946ef1c32949/resourceGroups/us_azure_practice/providers/Microsoft.MachineLearningServices/workspaces/us_azure?', 'type': 'Tracking'}, 'Studio': {'endpoint': 'https://ml.azure.com/runs/serene_chicken_v07pzg919l?wsid=/subscriptions/ba5d6a04-af22-45ea-bc5a-946ef1c32949/resourcegroups/us_azure_practice/workspaces/us_azure&tid=5ac231ff-07da-46e9-9b1d-c924625f23bd', 'type': 'Studio'}}, 'status': 'Starting', 'creation_context': <azure.ai.ml.entities._system_data.SystemData object at 0x7fa5993c3850>}, 'instance_id': '76cd5c21-f2f9-46ad-aca7-6ca599ee72fc', 'source': 'BUILDER', 'validate_required_input_not_provided': True, 'limits': None, 'identity': None, 'distribution': None, 'environment_variables': {}, 'environment': 'ENV-SDKv2:4', 'resources': {'instance_count': 1, 'shm_size': '2g'}, 'queue_settings': None, 'swept': False})",
            "text/html": "<table style=\"width:100%\"><tr><th>Experiment</th><th>Name</th><th>Type</th><th>Status</th><th>Details Page</th></tr><tr><td>Pima_Experiments_Training_SDK_v2</td><td>serene_chicken_v07pzg919l</td><td>command</td><td>Starting</td><td><a href=\"https://ml.azure.com/runs/serene_chicken_v07pzg919l?wsid=/subscriptions/ba5d6a04-af22-45ea-bc5a-946ef1c32949/resourcegroups/us_azure_practice/workspaces/us_azure&amp;tid=5ac231ff-07da-46e9-9b1d-c924625f23bd\" target=\"_blank\" rel=\"noopener\">Link to Azure Machine Learning studio</a></td></tr></table>"
          },
          "metadata": {}
        }
      ],
      "execution_count": 10,
      "metadata": {
        "jupyter": {
          "source_hidden": false,
          "outputs_hidden": false
        },
        "nteract": {
          "transient": {
            "deleting": false
          }
        },
        "gather": {
          "logged": 1699612715082
        }
      }
    },
    {
      "cell_type": "code",
      "source": [],
      "outputs": [],
      "execution_count": null,
      "metadata": {
        "jupyter": {
          "source_hidden": false,
          "outputs_hidden": false
        },
        "nteract": {
          "transient": {
            "deleting": false
          }
        },
        "gather": {
          "logged": 1699613092425
        }
      }
    }
  ],
  "metadata": {
    "kernelspec": {
      "name": "python310-sdkv2",
      "language": "python",
      "display_name": "Python 3.10 - SDK v2"
    },
    "language_info": {
      "name": "python",
      "version": "3.10.11",
      "mimetype": "text/x-python",
      "codemirror_mode": {
        "name": "ipython",
        "version": 3
      },
      "pygments_lexer": "ipython3",
      "nbconvert_exporter": "python",
      "file_extension": ".py"
    },
    "microsoft": {
      "ms_spell_check": {
        "ms_spell_check_language": "en"
      },
      "host": {
        "AzureML": {
          "notebookHasBeenCompleted": true
        }
      }
    },
    "kernel_info": {
      "name": "python310-sdkv2"
    },
    "nteract": {
      "version": "nteract-front-end@1.0.0"
    }
  },
  "nbformat": 4,
  "nbformat_minor": 2
}