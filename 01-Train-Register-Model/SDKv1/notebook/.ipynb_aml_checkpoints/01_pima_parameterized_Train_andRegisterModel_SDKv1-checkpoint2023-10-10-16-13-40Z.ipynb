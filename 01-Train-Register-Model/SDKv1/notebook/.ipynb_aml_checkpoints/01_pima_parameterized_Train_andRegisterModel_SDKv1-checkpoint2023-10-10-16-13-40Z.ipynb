{
  "cells": [
    {
      "cell_type": "markdown",
      "source": [
        "\n",
        "Workflow\n",
        "\n",
        "1. Initialize\n",
        "    - Workspace\n",
        "    - compute Cluster (to run the pipeline)\n",
        "    - Environment\n",
        "    - Experiment\n",
        "2. Get Input Data\n",
        "3. Create a .py script to Train & Register Model\n",
        "4. Configure ScriptRun"
      ],
      "metadata": {
        "nteract": {
          "transient": {
            "deleting": false
          }
        }
      }
    },
    {
      "cell_type": "markdown",
      "source": [
        "##### Step 1: Initializing Setup"
      ],
      "metadata": {
        "nteract": {
          "transient": {
            "deleting": false
          }
        }
      }
    },
    {
      "cell_type": "code",
      "source": [
        "#Initialize Workspace\n",
        "from azureml.core import Workspace, Datastore, Dataset\n",
        "\n",
        "ws = Workspace.from_config()"
      ],
      "outputs": [],
      "execution_count": 7,
      "metadata": {
        "gather": {
          "logged": 1699632521177
        }
      }
    },
    {
      "cell_type": "code",
      "source": [
        "# Initialize Compute Target\n",
        "from azureml.core.compute import ComputeTarget, AmlCompute\n",
        "from azureml.core.compute_target import ComputeTargetException\n",
        "\n",
        "# Choose a name for your CPU cluster\n",
        "compute = 'ML-Pipeline-Cluster'\n",
        "\n",
        "# Verify that cluster does not exist already\n",
        "try:\n",
        "    cpu_cluster = ComputeTarget(workspace=ws, name=compute)\n",
        "    print('Found existing cluster, use it.')\n",
        "except ComputeTargetException:\n",
        "    compute_config = AmlCompute.provisioning_configuration(vm_size='STANDARD_D2_V2',\n",
        "                                                           max_nodes=4,\n",
        "                                                           idle_seconds_before_scaledown=300)\n",
        "    cpu_cluster = ComputeTarget.create(ws, compute, compute_config)\n",
        "\n",
        "cpu_cluster.wait_for_completion(show_output=True)"
      ],
      "outputs": [
        {
          "output_type": "stream",
          "name": "stdout",
          "text": "Found existing cluster, use it.\nSucceeded\nAmlCompute wait for completion finished\n\nMinimum number of nodes requested have been provisioned\n"
        }
      ],
      "execution_count": 8,
      "metadata": {
        "jupyter": {
          "source_hidden": false,
          "outputs_hidden": false
        },
        "nteract": {
          "transient": {
            "deleting": false
          }
        },
        "gather": {
          "logged": 1699632521388
        }
      }
    },
    {
      "cell_type": "code",
      "source": [
        "# creating an environment\n",
        "from azureml.core import Environment\n",
        "from azureml.core.conda_dependencies import CondaDependencies\n",
        "from azureml.core.runconfig import RunConfiguration\n",
        "\n",
        "env_name = 'ENV-SDKv1'\n",
        "\n",
        "# ---- Create environment using defining packages\n",
        "#custom_env = Environment('aml-scikit-learn')\n",
        "#conda_dep = CondaDependencies.create(conda_packages=['scikit-learn','pandas','numpy','pip', 'pyodbc','sqlalchemy'],\n",
        "#                                     pip_packages=['azureml-defaults'])\n",
        "\n",
        "# custom_env.python.conda_dependencies = conda_dep\n",
        "# register the environment\n",
        "#custom_env.register(workspace=ws)\n",
        "\n",
        "# ---- create enviroment using .yaml file\n",
        "# python_packages = Environment.from_conda_specification(env_name, '../dependencies/conda.yaml')\n",
        "# # register the environment\n",
        "# python_packages.register(workspace=ws)\n",
        "\n",
        "# # calling registered environent\n",
        "reg_env = Environment.get(ws, env_name)\n",
        "\n",
        "# create a run config object for the pipeline\n",
        "pipeline_runconfig = RunConfiguration()\n",
        "\n",
        "# # use the compute target\n",
        "pipeline_runconfig.target = compute\n",
        "\n",
        "# # assigning the run configuration to the envrionment\n",
        "pipeline_runconfig.environment = reg_env\n",
        "print('RunConfiguration created')"
      ],
      "outputs": [
        {
          "output_type": "stream",
          "name": "stdout",
          "text": "RunConfiguration created\n"
        }
      ],
      "execution_count": 9,
      "metadata": {
        "jupyter": {
          "source_hidden": false,
          "outputs_hidden": false
        },
        "nteract": {
          "transient": {
            "deleting": false
          }
        },
        "gather": {
          "logged": 1699632529308
        }
      }
    },
    {
      "cell_type": "code",
      "source": [
        "# create an experiment\n",
        "from azureml.core import Experiment\n",
        "experiment_name = 'Pima_Experiments_Training_SDK_v1'\n",
        "experiment = Experiment(workspace = ws, name = experiment_name)"
      ],
      "outputs": [],
      "execution_count": 10,
      "metadata": {
        "jupyter": {
          "source_hidden": false,
          "outputs_hidden": false
        },
        "nteract": {
          "transient": {
            "deleting": false
          }
        },
        "gather": {
          "logged": 1699632531176
        }
      }
    },
    {
      "cell_type": "markdown",
      "source": [
        "##### Step 2: Get Data\n"
      ],
      "metadata": {
        "nteract": {
          "transient": {
            "deleting": false
          }
        }
      }
    },
    {
      "cell_type": "code",
      "source": [
        "# ---- Getting Data\n",
        "dataset_name = 'pima-sdk-v1'\n",
        "# loading data from Dataset\n",
        "df_tb   = Dataset.get_by_name(workspace=ws, name= dataset_name)"
      ],
      "outputs": [],
      "execution_count": 11,
      "metadata": {
        "jupyter": {
          "source_hidden": false,
          "outputs_hidden": false
        },
        "nteract": {
          "transient": {
            "deleting": false
          }
        },
        "gather": {
          "logged": 1699632536450
        }
      }
    },
    {
      "cell_type": "markdown",
      "source": [
        "Step 3: Configure ScriptRun Step"
      ],
      "metadata": {
        "nteract": {
          "transient": {
            "deleting": false
          }
        }
      }
    },
    {
      "cell_type": "code",
      "source": [
        "# configure & run\n",
        "from azureml.core import ScriptRunConfig\n",
        "\n",
        "# configure\n",
        "args = ['--input_data', df_tb.as_named_input('raw_data'),\n",
        "        '--train_test_ratio', 0.3]\n",
        "        \n",
        "src = ScriptRunConfig(source_directory='../src/', \n",
        "                      script='train_SDKv1.py',\n",
        "                      arguments =args ,\n",
        "                      compute_target=compute,\n",
        "                      environment=reg_env,\n",
        "                      )\n",
        "\n",
        "# run \n",
        "run = experiment.submit(config=src)\n",
        "run"
      ],
      "outputs": [],
      "execution_count": 12,
      "metadata": {
        "jupyter": {
          "source_hidden": false,
          "outputs_hidden": false
        },
        "nteract": {
          "transient": {
            "deleting": false
          }
        },
        "gather": {
          "logged": 1699632815175
        }
      }
    },
    {
      "cell_type": "code",
      "source": [],
      "outputs": [],
      "execution_count": null,
      "metadata": {
        "jupyter": {
          "source_hidden": false,
          "outputs_hidden": false
        },
        "nteract": {
          "transient": {
            "deleting": false
          }
        }
      }
    }
  ],
  "metadata": {
    "kernelspec": {
      "name": "python310-sdkv2",
      "language": "python",
      "display_name": "Python 3.10 - SDK v2"
    },
    "language_info": {
      "name": "python",
      "version": "3.10.11",
      "mimetype": "text/x-python",
      "codemirror_mode": {
        "name": "ipython",
        "version": 3
      },
      "pygments_lexer": "ipython3",
      "nbconvert_exporter": "python",
      "file_extension": ".py"
    },
    "microsoft": {
      "ms_spell_check": {
        "ms_spell_check_language": "en"
      },
      "host": {
        "AzureML": {
          "notebookHasBeenCompleted": true
        }
      }
    },
    "kernel_info": {
      "name": "python310-sdkv2"
    },
    "nteract": {
      "version": "nteract-front-end@1.0.0"
    }
  },
  "nbformat": 4,
  "nbformat_minor": 2
}